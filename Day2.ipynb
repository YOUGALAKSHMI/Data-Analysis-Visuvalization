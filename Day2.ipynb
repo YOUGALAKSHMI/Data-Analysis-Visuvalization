{
  "nbformat": 4,
  "nbformat_minor": 0,
  "metadata": {
    "colab": {
      "provenance": [],
      "authorship_tag": "ABX9TyPA2iKPzrX5g3JMAE+sYvbf",
      "include_colab_link": true
    },
    "kernelspec": {
      "name": "python3",
      "display_name": "Python 3"
    },
    "language_info": {
      "name": "python"
    }
  },
  "cells": [
    {
      "cell_type": "markdown",
      "metadata": {
        "id": "view-in-github",
        "colab_type": "text"
      },
      "source": [
        "<a href=\"https://colab.research.google.com/github/YOUGALAKSHMI/Data-Analysis-Visuvalization/blob/main/Day2.ipynb\" target=\"_parent\"><img src=\"https://colab.research.google.com/assets/colab-badge.svg\" alt=\"Open In Colab\"/></a>"
      ]
    },
    {
      "cell_type": "code",
      "execution_count": null,
      "metadata": {
        "colab": {
          "base_uri": "https://localhost:8080/"
        },
        "id": "e6Y18dijZcRS",
        "outputId": "1513196f-4dc6-4c9d-8334-fa4ed4ae42a8"
      },
      "outputs": [
        {
          "output_type": "stream",
          "name": "stdout",
          "text": [
            "added number is: 400\n",
            "subtracted number is: 0\n",
            "multiplied number is: 40000\n",
            "divided number is: 1.0\n"
          ]
        }
      ],
      "source": [
        "# TASK 1\n",
        "x = 200\n",
        "y= 200\n",
        "\n",
        "def add():\n",
        "  return x+y\n",
        "def sub():\n",
        "   return x-y\n",
        "def mul():\n",
        " return x*y\n",
        "def div():\n",
        "   return x/y\n",
        "print(\"added number is:\",add())\n",
        "print(\"subtracted number is:\",sub())\n",
        "print(\"multiplied number is:\",mul())\n",
        "print(\"divided number is:\",div())"
      ]
    },
    {
      "cell_type": "code",
      "source": [
        "# TASK 2-WITH GLOBAL VARIABLE\n",
        "def factorial(n):\n",
        " if n == 0 or n == 1:\n",
        "    return 1\n",
        " else:\n",
        "   return n * factorial(n - 1)\n",
        "\n",
        "number = int(input(\"Enter a number: \"))\n",
        "\n",
        "result = factorial(number)\n",
        "print(f\"The factorial of {number} is {result}\")\n"
      ],
      "metadata": {
        "colab": {
          "base_uri": "https://localhost:8080/"
        },
        "id": "QdJPGceZZz0j",
        "outputId": "b4ea8753-b433-4ad8-e7e5-de84519b3fa2"
      },
      "execution_count": null,
      "outputs": [
        {
          "output_type": "stream",
          "name": "stdout",
          "text": [
            "Enter a number: 25\n",
            "The factorial of 25 is 15511210043330985984000000\n"
          ]
        }
      ]
    },
    {
      "cell_type": "code",
      "source": [
        "#TASK 2-WITHOUT GLOBAL VARIABLE\n",
        "def factorial(n):\n",
        "   result = 1\n",
        "   for i in range(1, n + 1):\n",
        "    result *= i\n",
        "   return result\n",
        "\n",
        "\n",
        "number = int(input(\"Enter a number: \"))\n",
        "\n",
        "result = factorial(number)\n",
        "print(f\"The factorial of {number} is {result}\")"
      ],
      "metadata": {
        "colab": {
          "base_uri": "https://localhost:8080/"
        },
        "id": "8I52UFRTaMDi",
        "outputId": "52e59731-7c29-412d-9423-2d5ed07975e6"
      },
      "execution_count": null,
      "outputs": [
        {
          "output_type": "stream",
          "name": "stdout",
          "text": [
            "Enter a number: 07\n",
            "The factorial of 7 is 5040\n"
          ]
        }
      ]
    },
    {
      "cell_type": "code",
      "source": [
        "#task 3-CGPA calculation by passing list of arugunets\n",
        "def CgpaCalc(marks, n):\n",
        "\n",
        "\n",
        "    grade = [0] * n\n",
        "    Sum = 0\n",
        "\n",
        "\n",
        "    for i in range(n):\n",
        "       grade[i] = (marks[i] / 10)\n",
        "\n",
        "    for i in range(n):\n",
        "       Sum += grade[i]\n",
        "\n",
        "    cgpa = Sum / n\n",
        "\n",
        "    return cgpa\n",
        "\n",
        "n = 5\n",
        "marks = [ 90, 80, 70, 80, 90 ]\n",
        "\n",
        "cgpa = CgpaCalc(marks, n)\n",
        "\n",
        "print(\"CGPA = \", '%.1f' % cgpa)\n",
        "print(\"CGPA Percentage = \", '%.2f' % (cgpa * 9.5))"
      ],
      "metadata": {
        "colab": {
          "base_uri": "https://localhost:8080/"
        },
        "id": "4aik_jf_dNt8",
        "outputId": "c455508f-2bc3-41d1-b51c-b8c970fe6fd6"
      },
      "execution_count": null,
      "outputs": [
        {
          "output_type": "stream",
          "name": "stdout",
          "text": [
            "CGPA =  8.2\n",
            "CGPA Percentage =  77.90\n"
          ]
        }
      ]
    },
    {
      "cell_type": "code",
      "source": [
        "#task-4 2*2 matrix addition using functions\n",
        "def sumofmatrix(NUM1,NUM2):\n",
        "  total=[[0,0],[0,0]]\n",
        "  for i in range(2):\n",
        "    for j in range(2):\n",
        "       total[i][j]=NUM1[i][j]+NUM2[i][j]\n",
        "  return total\n",
        "NUM1=([2,4],\n",
        "     [2,4])\n",
        "NUM2=([3,5],[3,5])\n",
        "sum=sumofmatrix(NUM1,NUM2)\n",
        "print(\"ADDITION OF TWO MATRIX IS %d\",sum)"
      ],
      "metadata": {
        "colab": {
          "base_uri": "https://localhost:8080/"
        },
        "id": "6mDAgtmId3qc",
        "outputId": "d92859d6-de93-411c-8004-9a0cdad0df18"
      },
      "execution_count": null,
      "outputs": [
        {
          "output_type": "stream",
          "name": "stdout",
          "text": [
            "ADDITION OF TWO MATRIX IS %d [[5, 9], [5, 9]]\n"
          ]
        }
      ]
    }
  ]
}