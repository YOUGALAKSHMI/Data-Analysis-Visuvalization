{
  "nbformat": 4,
  "nbformat_minor": 0,
  "metadata": {
    "colab": {
      "provenance": [],
      "authorship_tag": "ABX9TyN+sKhWYOxUZJHT4JZpJSQk",
      "include_colab_link": true
    },
    "kernelspec": {
      "name": "python3",
      "display_name": "Python 3"
    },
    "language_info": {
      "name": "python"
    }
  },
  "cells": [
    {
      "cell_type": "markdown",
      "metadata": {
        "id": "view-in-github",
        "colab_type": "text"
      },
      "source": [
        "<a href=\"https://colab.research.google.com/github/YOUGALAKSHMI/Data-Analysis-Visuvalization/blob/main/day12.ipynb\" target=\"_parent\"><img src=\"https://colab.research.google.com/assets/colab-badge.svg\" alt=\"Open In Colab\"/></a>"
      ]
    },
    {
      "cell_type": "code",
      "metadata": {
        "colab": {
          "base_uri": "https://localhost:8080/"
        },
        "id": "92n4XiWza5u9",
        "outputId": "a6ecfefb-04e1-47b4-95fc-bfddd7b277eb"
      },
      "source": [
        "print(\"welcome to BIT\")"
      ],
      "execution_count": null,
      "outputs": [
        {
          "output_type": "stream",
          "name": "stdout",
          "text": [
            "welcome to BIT\n"
          ]
        }
      ]
    },
    {
      "cell_type": "code",
      "metadata": {
        "colab": {
          "base_uri": "https://localhost:8080/"
        },
        "id": "tq6-jB1jboyU",
        "outputId": "692a4bc7-235b-4f68-d656-0a80fd5754b6"
      },
      "source": [
        "mynumber=10\n",
        "print(mynumber)"
      ],
      "execution_count": null,
      "outputs": [
        {
          "output_type": "stream",
          "name": "stdout",
          "text": [
            "10\n"
          ]
        }
      ]
    },
    {
      "cell_type": "code",
      "metadata": {
        "colab": {
          "base_uri": "https://localhost:8080/"
        },
        "id": "qULw5aghb3Ck",
        "outputId": "3022bdd0-036e-4409-9962-9bbd5d0ec3c6"
      },
      "source": [
        "mynumber2=4.5\n",
        "print(mynumber2)"
      ],
      "execution_count": null,
      "outputs": [
        {
          "output_type": "stream",
          "name": "stdout",
          "text": [
            "4.5\n"
          ]
        }
      ]
    },
    {
      "cell_type": "code",
      "metadata": {
        "colab": {
          "base_uri": "https://localhost:8080/"
        },
        "id": "VNRsnMCyc-38",
        "outputId": "7f65b190-ef8a-4319-97e5-1afc93e80607"
      },
      "source": [
        "x,y,z=\"red\",\"blue\",\"green\"\n",
        "print(x,y,z,)"
      ],
      "execution_count": null,
      "outputs": [
        {
          "output_type": "stream",
          "name": "stdout",
          "text": [
            "red blue green\n"
          ]
        }
      ]
    },
    {
      "cell_type": "code",
      "metadata": {
        "colab": {
          "base_uri": "https://localhost:8080/"
        },
        "id": "iUQKW6QrcFE9",
        "outputId": "76160dd1-ab19-47ea-caf1-78518e4b625a"
      },
      "source": [
        "mynumber=\"hello\"\n",
        "print(mynumber)"
      ],
      "execution_count": null,
      "outputs": [
        {
          "output_type": "stream",
          "name": "stdout",
          "text": [
            "hello\n"
          ]
        }
      ]
    },
    {
      "cell_type": "code",
      "metadata": {
        "colab": {
          "base_uri": "https://localhost:8080/"
        },
        "id": "5adRcP1fd5nv",
        "outputId": "ed2c05bc-3321-458c-c3a3-5c8fe3c228c4"
      },
      "source": [
        "mystring='hello'\n",
        "print(mystring)"
      ],
      "execution_count": null,
      "outputs": [
        {
          "output_type": "stream",
          "name": "stdout",
          "text": [
            "hello\n"
          ]
        }
      ]
    },
    {
      "cell_type": "code",
      "metadata": {
        "colab": {
          "base_uri": "https://localhost:8080/"
        },
        "id": "oEnFRmLKei6v",
        "outputId": "419a6c4e-ca8e-4b92-a37d-a9d3e9624bd8"
      },
      "source": [
        "x=y=z=6\n",
        "print(x,y,z)"
      ],
      "execution_count": null,
      "outputs": [
        {
          "output_type": "stream",
          "name": "stdout",
          "text": [
            "6 6 6\n"
          ]
        }
      ]
    },
    {
      "cell_type": "code",
      "metadata": {
        "colab": {
          "base_uri": "https://localhost:8080/"
        },
        "id": "PTOacY25etCd",
        "outputId": "a24e202a-4ccc-49e5-cdb0-003cc9e0d664"
      },
      "source": [
        "fruits=[\"apple\",\"orange\",\"grapes\"]\n",
        "x,y,z=fruits\n",
        "print(x,y,z)\n"
      ],
      "execution_count": null,
      "outputs": [
        {
          "output_type": "stream",
          "name": "stdout",
          "text": [
            "apple orange grapes\n"
          ]
        }
      ]
    },
    {
      "cell_type": "code",
      "metadata": {
        "colab": {
          "base_uri": "https://localhost:8080/"
        },
        "id": "7K0mPE1igiIO",
        "outputId": "ba3fdda0-53b7-4a47-ec35-299ef3f7cb0e"
      },
      "source": [
        "x,y=3,4\n",
        "z=x+y\n",
        "print(z)"
      ],
      "execution_count": null,
      "outputs": [
        {
          "output_type": "stream",
          "name": "stdout",
          "text": [
            "7\n"
          ]
        }
      ]
    },
    {
      "cell_type": "code",
      "metadata": {
        "colab": {
          "base_uri": "https://localhost:8080/"
        },
        "id": "jQIftlZagtWu",
        "outputId": "92690b10-8156-4ad1-8b01-53d7e4bf069d"
      },
      "source": [
        "x,y=\"welcome to\",\" bit\"\n",
        "z=x+y\n",
        "print(z)"
      ],
      "execution_count": null,
      "outputs": [
        {
          "output_type": "stream",
          "name": "stdout",
          "text": [
            "welcome to bit\n"
          ]
        }
      ]
    },
    {
      "cell_type": "code",
      "metadata": {
        "colab": {
          "base_uri": "https://localhost:8080/"
        },
        "id": "kabiF1ETis_N",
        "outputId": "ec8d32de-e4ad-4f9c-8944-11fae7f55c63"
      },
      "source": [
        "x=int(1) #x will be 1\n",
        "y=int(2.0) #y will be 2\n",
        "z=int(\"3\") #z will be 3\n",
        "print(x,y,z)"
      ],
      "execution_count": null,
      "outputs": [
        {
          "output_type": "stream",
          "name": "stdout",
          "text": [
            "1 2 3\n"
          ]
        }
      ]
    },
    {
      "cell_type": "code",
      "metadata": {
        "colab": {
          "base_uri": "https://localhost:8080/"
        },
        "id": "2uWTYma8jeN_",
        "outputId": "f71e6ca9-b57c-4579-8fd4-b651e504828c"
      },
      "source": [
        "x=float(1)\n",
        "y=float(2.0)\n",
        "z=float(\"6\")\n",
        "v=float(\"4.2\")\n",
        "print(x,y,z,v)"
      ],
      "execution_count": null,
      "outputs": [
        {
          "output_type": "stream",
          "name": "stdout",
          "text": [
            "1.0 2.0 6.0 4.2\n"
          ]
        }
      ]
    },
    {
      "cell_type": "code",
      "metadata": {
        "colab": {
          "base_uri": "https://localhost:8080/"
        },
        "id": "qFzB09cZk7xH",
        "outputId": "f60337e9-1c2b-4e21-9715-ebee9f02d134"
      },
      "source": [
        "print(\"B\",\"I\",\"T\",sep='')\n"
      ],
      "execution_count": null,
      "outputs": [
        {
          "output_type": "stream",
          "name": "stdout",
          "text": [
            "BIT\n"
          ]
        }
      ]
    },
    {
      "cell_type": "code",
      "metadata": {
        "colab": {
          "base_uri": "https://localhost:8080/"
        },
        "id": "Wqu8_jgelmEG",
        "outputId": "074ca4ca-b630-406e-96f9-860e8ddc9df5"
      },
      "source": [
        "print(\"04\",\"11\",\"2003\",sep='-')"
      ],
      "execution_count": null,
      "outputs": [
        {
          "output_type": "stream",
          "name": "stdout",
          "text": [
            "04-11-2003\n"
          ]
        }
      ]
    },
    {
      "cell_type": "code",
      "metadata": {
        "colab": {
          "base_uri": "https://localhost:8080/"
        },
        "id": "liGqTEOol19F",
        "outputId": "b492d59a-0912-4f2f-dc54-8f029534dc3d"
      },
      "source": [
        "print(\"welcome to computer\",end='**')\n",
        "print(\"computer science\")"
      ],
      "execution_count": null,
      "outputs": [
        {
          "output_type": "stream",
          "name": "stdout",
          "text": [
            "welcome to computer**computer science\n"
          ]
        }
      ]
    },
    {
      "cell_type": "code",
      "metadata": {
        "colab": {
          "base_uri": "https://localhost:8080/"
        },
        "id": "WN_nd9Peo0RO",
        "outputId": "8f1f583f-866c-4de4-c9f5-7fa4d7e8cc2a"
      },
      "source": [
        "import math\n",
        "print(math.factorial(10))"
      ],
      "execution_count": null,
      "outputs": [
        {
          "output_type": "stream",
          "name": "stdout",
          "text": [
            "3628800\n"
          ]
        }
      ]
    },
    {
      "cell_type": "code",
      "metadata": {
        "colab": {
          "base_uri": "https://localhost:8080/"
        },
        "id": "W6njhETRpJue",
        "outputId": "e357499a-8e15-45bc-8e8f-4e85d967923d"
      },
      "source": [
        "from math import factorial\n",
        "print(factorial(10))\n"
      ],
      "execution_count": null,
      "outputs": [
        {
          "output_type": "stream",
          "name": "stdout",
          "text": [
            "3628800\n"
          ]
        }
      ]
    }
  ]
}