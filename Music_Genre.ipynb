{
  "nbformat": 4,
  "nbformat_minor": 0,
  "metadata": {
    "colab": {
      "provenance": [],
      "mount_file_id": "1oYBOCkM97u3E-mMrgpcNzB0HVWNHnP6q",
      "authorship_tag": "ABX9TyOSuHP8wiNs8DKL+7GHPc9s",
      "include_colab_link": true
    },
    "kernelspec": {
      "name": "python3",
      "display_name": "Python 3"
    },
    "language_info": {
      "name": "python"
    }
  },
  "cells": [
    {
      "cell_type": "markdown",
      "metadata": {
        "id": "view-in-github",
        "colab_type": "text"
      },
      "source": [
        "<a href=\"https://colab.research.google.com/github/YOUGALAKSHMI/Happy-number/blob/main/Music_Genre.ipynb\" target=\"_parent\"><img src=\"https://colab.research.google.com/assets/colab-badge.svg\" alt=\"Open In Colab\"/></a>"
      ]
    },
    {
      "cell_type": "markdown",
      "source": [
        "**LIBRARIES**"
      ],
      "metadata": {
        "id": "bJpkIMad62ZT"
      }
    },
    {
      "cell_type": "code",
      "execution_count": null,
      "metadata": {
        "id": "ljxzW4vOeYPh"
      },
      "outputs": [],
      "source": [
        "import pandas as pd\n",
        "import numpy as np\n",
        "import matplotlib.pyplot as plt\n",
        "%matplotlib inline"
      ]
    },
    {
      "cell_type": "markdown",
      "source": [
        "**DATA** **PREPROCESSING**"
      ],
      "metadata": {
        "id": "083Jl7-Z7ELu"
      }
    },
    {
      "cell_type": "code",
      "source": [
        "MUSIC=pd.read_csv(\"/content/drive/MyDrive/data.csv\",encoding='latin-1')"
      ],
      "metadata": {
        "id": "8DZs7_Ioea3w"
      },
      "execution_count": null,
      "outputs": []
    },
    {
      "cell_type": "code",
      "source": [
        "MUSIC.shape"
      ],
      "metadata": {
        "colab": {
          "base_uri": "https://localhost:8080/"
        },
        "id": "U6OP-jGIr_KC",
        "outputId": "f260a42c-2515-44d4-acfd-e5b9c1141a0d"
      },
      "execution_count": null,
      "outputs": [
        {
          "output_type": "execute_result",
          "data": {
            "text/plain": [
              "(1048575, 7)"
            ]
          },
          "metadata": {},
          "execution_count": 3
        }
      ]
    },
    {
      "cell_type": "code",
      "source": [
        "MUSIC.columns"
      ],
      "metadata": {
        "colab": {
          "base_uri": "https://localhost:8080/"
        },
        "id": "x2NmLxOgpUZS",
        "outputId": "3db17184-7051-4be7-f618-bcfcbd0c892f"
      },
      "execution_count": null,
      "outputs": [
        {
          "output_type": "execute_result",
          "data": {
            "text/plain": [
              "Index(['Position', 'Track Name', 'Artist', 'Streams', 'URL', 'Date', 'Region'], dtype='object')"
            ]
          },
          "metadata": {},
          "execution_count": 4
        }
      ]
    },
    {
      "cell_type": "code",
      "source": [
        "len(MUSIC.columns)"
      ],
      "metadata": {
        "colab": {
          "base_uri": "https://localhost:8080/"
        },
        "id": "Fhg5Y89Wpdr2",
        "outputId": "5557de13-56dd-4f2c-b465-39c7fca3fe42"
      },
      "execution_count": null,
      "outputs": [
        {
          "output_type": "execute_result",
          "data": {
            "text/plain": [
              "7"
            ]
          },
          "metadata": {},
          "execution_count": 5
        }
      ]
    },
    {
      "cell_type": "code",
      "source": [
        "MUSIC.isnull().sum()"
      ],
      "metadata": {
        "colab": {
          "base_uri": "https://localhost:8080/"
        },
        "id": "h9WYP2_85Vsa",
        "outputId": "4b2c5f80-017d-4e44-a13f-94194e79884f"
      },
      "execution_count": null,
      "outputs": [
        {
          "output_type": "execute_result",
          "data": {
            "text/plain": [
              "Position        1\n",
              "Track Name    191\n",
              "Artist        191\n",
              "Streams       104\n",
              "URL             1\n",
              "Date            1\n",
              "Region          1\n",
              "dtype: int64"
            ]
          },
          "metadata": {},
          "execution_count": 6
        }
      ]
    },
    {
      "cell_type": "code",
      "source": [
        "MUSIC.Position.fillna(\"unknown\")"
      ],
      "metadata": {
        "colab": {
          "base_uri": "https://localhost:8080/"
        },
        "id": "7Rutln9D55kL",
        "outputId": "77f22cd0-df4c-43e8-f6d1-336a6b3f2481"
      },
      "execution_count": null,
      "outputs": [
        {
          "output_type": "execute_result",
          "data": {
            "text/plain": [
              "0              1.0\n",
              "1              2.0\n",
              "2              3.0\n",
              "3              4.0\n",
              "4              5.0\n",
              "            ...   \n",
              "1048570       56.0\n",
              "1048571       57.0\n",
              "1048572       58.0\n",
              "1048573       59.0\n",
              "1048574    unknown\n",
              "Name: Position, Length: 1048575, dtype: object"
            ]
          },
          "metadata": {},
          "execution_count": 7
        }
      ]
    },
    {
      "cell_type": "code",
      "source": [
        "MUSIC.Streams.fillna(\"unknown\")"
      ],
      "metadata": {
        "colab": {
          "base_uri": "https://localhost:8080/"
        },
        "id": "nnnbNjOR6D0b",
        "outputId": "8550cd31-2a66-44ab-d366-f3512cb53d0b"
      },
      "execution_count": null,
      "outputs": [
        {
          "output_type": "execute_result",
          "data": {
            "text/plain": [
              "0          19272.0\n",
              "1          19270.0\n",
              "2          15761.0\n",
              "3          14954.0\n",
              "4          14269.0\n",
              "            ...   \n",
              "1048570    23883.0\n",
              "1048571    23649.0\n",
              "1048572    22654.0\n",
              "1048573    21903.0\n",
              "1048574    unknown\n",
              "Name: Streams, Length: 1048575, dtype: object"
            ]
          },
          "metadata": {},
          "execution_count": 8
        }
      ]
    },
    {
      "cell_type": "code",
      "source": [
        "MUSIC.URL.fillna(\"unknown\")"
      ],
      "metadata": {
        "colab": {
          "base_uri": "https://localhost:8080/"
        },
        "id": "5dEAUL0M6Llz",
        "outputId": "e7e97d30-fdda-4e93-8345-4f28d0adbf75"
      },
      "execution_count": null,
      "outputs": [
        {
          "output_type": "execute_result",
          "data": {
            "text/plain": [
              "0          https://open.spotify.com/track/3AEZUABDXNtecAO...\n",
              "1          https://open.spotify.com/track/6mICuAdrwEjh6Y6...\n",
              "2          https://open.spotify.com/track/3QwBODjSEzelZyV...\n",
              "3          https://open.spotify.com/track/7DM4BPaS7uofFul...\n",
              "4          https://open.spotify.com/track/6rQSrBHf7HlZjtc...\n",
              "                                 ...                        \n",
              "1048570    https://open.spotify.com/track/0sXvAOmXgjR2QUq...\n",
              "1048571    https://open.spotify.com/track/3ebXMykcMXOcLeJ...\n",
              "1048572    https://open.spotify.com/track/1MpKZi1zTXpERKw...\n",
              "1048573    https://open.spotify.com/track/1VRjHqcE8ttKtaj...\n",
              "1048574                                              unknown\n",
              "Name: URL, Length: 1048575, dtype: object"
            ]
          },
          "metadata": {},
          "execution_count": 9
        }
      ]
    },
    {
      "cell_type": "code",
      "source": [
        "MUSIC.Date.fillna(\"unknown\")"
      ],
      "metadata": {
        "colab": {
          "base_uri": "https://localhost:8080/"
        },
        "id": "OFajxwk66Xtb",
        "outputId": "be21d604-4809-4786-a6d9-1924b2bd735d"
      },
      "execution_count": null,
      "outputs": [
        {
          "output_type": "execute_result",
          "data": {
            "text/plain": [
              "0           1/1/2017\n",
              "1           1/1/2017\n",
              "2           1/1/2017\n",
              "3           1/1/2017\n",
              "4           1/1/2017\n",
              "             ...    \n",
              "1048570    3/19/2017\n",
              "1048571    3/19/2017\n",
              "1048572    3/19/2017\n",
              "1048573    3/19/2017\n",
              "1048574      unknown\n",
              "Name: Date, Length: 1048575, dtype: object"
            ]
          },
          "metadata": {},
          "execution_count": 10
        }
      ]
    },
    {
      "cell_type": "code",
      "source": [
        "MUSIC.Region.fillna(\"unknown\")"
      ],
      "metadata": {
        "colab": {
          "base_uri": "https://localhost:8080/"
        },
        "id": "4lElAkHh6b7D",
        "outputId": "142fa229-2782-4f3b-807c-ca9befa723e6"
      },
      "execution_count": null,
      "outputs": [
        {
          "output_type": "execute_result",
          "data": {
            "text/plain": [
              "0               ec\n",
              "1               ec\n",
              "2               ec\n",
              "3               ec\n",
              "4               ec\n",
              "            ...   \n",
              "1048570         cl\n",
              "1048571         cl\n",
              "1048572         cl\n",
              "1048573         cl\n",
              "1048574    unknown\n",
              "Name: Region, Length: 1048575, dtype: object"
            ]
          },
          "metadata": {},
          "execution_count": 11
        }
      ]
    },
    {
      "cell_type": "code",
      "source": [
        "MUSIC.head()"
      ],
      "metadata": {
        "colab": {
          "base_uri": "https://localhost:8080/",
          "height": 206
        },
        "id": "BCF19PjNsDyJ",
        "outputId": "291d80dc-ee47-408d-cc96-8f6d7c0120fb"
      },
      "execution_count": null,
      "outputs": [
        {
          "output_type": "execute_result",
          "data": {
            "text/plain": [
              "   Position                  Track Name         Artist  Streams  \\\n",
              "0       1.0  Reggaetón Lento (Bailemos)           CNCO  19272.0   \n",
              "1       2.0                    Chantaje        Shakira  19270.0   \n",
              "2       3.0   Otra Vez (feat. J Balvin)  Zion & Lennox  15761.0   \n",
              "3       4.0                Vente Pa' Ca   Ricky Martin  14954.0   \n",
              "4       5.0                      Safari       J Balvin  14269.0   \n",
              "\n",
              "                                                 URL      Date Region  \n",
              "0  https://open.spotify.com/track/3AEZUABDXNtecAO...  1/1/2017     ec  \n",
              "1  https://open.spotify.com/track/6mICuAdrwEjh6Y6...  1/1/2017     ec  \n",
              "2  https://open.spotify.com/track/3QwBODjSEzelZyV...  1/1/2017     ec  \n",
              "3  https://open.spotify.com/track/7DM4BPaS7uofFul...  1/1/2017     ec  \n",
              "4  https://open.spotify.com/track/6rQSrBHf7HlZjtc...  1/1/2017     ec  "
            ],
            "text/html": [
              "\n",
              "  <div id=\"df-277a76f4-38ce-4eeb-97a3-5b0b16ecaea4\">\n",
              "    <div class=\"colab-df-container\">\n",
              "      <div>\n",
              "<style scoped>\n",
              "    .dataframe tbody tr th:only-of-type {\n",
              "        vertical-align: middle;\n",
              "    }\n",
              "\n",
              "    .dataframe tbody tr th {\n",
              "        vertical-align: top;\n",
              "    }\n",
              "\n",
              "    .dataframe thead th {\n",
              "        text-align: right;\n",
              "    }\n",
              "</style>\n",
              "<table border=\"1\" class=\"dataframe\">\n",
              "  <thead>\n",
              "    <tr style=\"text-align: right;\">\n",
              "      <th></th>\n",
              "      <th>Position</th>\n",
              "      <th>Track Name</th>\n",
              "      <th>Artist</th>\n",
              "      <th>Streams</th>\n",
              "      <th>URL</th>\n",
              "      <th>Date</th>\n",
              "      <th>Region</th>\n",
              "    </tr>\n",
              "  </thead>\n",
              "  <tbody>\n",
              "    <tr>\n",
              "      <th>0</th>\n",
              "      <td>1.0</td>\n",
              "      <td>Reggaetón Lento (Bailemos)</td>\n",
              "      <td>CNCO</td>\n",
              "      <td>19272.0</td>\n",
              "      <td>https://open.spotify.com/track/3AEZUABDXNtecAO...</td>\n",
              "      <td>1/1/2017</td>\n",
              "      <td>ec</td>\n",
              "    </tr>\n",
              "    <tr>\n",
              "      <th>1</th>\n",
              "      <td>2.0</td>\n",
              "      <td>Chantaje</td>\n",
              "      <td>Shakira</td>\n",
              "      <td>19270.0</td>\n",
              "      <td>https://open.spotify.com/track/6mICuAdrwEjh6Y6...</td>\n",
              "      <td>1/1/2017</td>\n",
              "      <td>ec</td>\n",
              "    </tr>\n",
              "    <tr>\n",
              "      <th>2</th>\n",
              "      <td>3.0</td>\n",
              "      <td>Otra Vez (feat. J Balvin)</td>\n",
              "      <td>Zion &amp; Lennox</td>\n",
              "      <td>15761.0</td>\n",
              "      <td>https://open.spotify.com/track/3QwBODjSEzelZyV...</td>\n",
              "      <td>1/1/2017</td>\n",
              "      <td>ec</td>\n",
              "    </tr>\n",
              "    <tr>\n",
              "      <th>3</th>\n",
              "      <td>4.0</td>\n",
              "      <td>Vente Pa' Ca</td>\n",
              "      <td>Ricky Martin</td>\n",
              "      <td>14954.0</td>\n",
              "      <td>https://open.spotify.com/track/7DM4BPaS7uofFul...</td>\n",
              "      <td>1/1/2017</td>\n",
              "      <td>ec</td>\n",
              "    </tr>\n",
              "    <tr>\n",
              "      <th>4</th>\n",
              "      <td>5.0</td>\n",
              "      <td>Safari</td>\n",
              "      <td>J Balvin</td>\n",
              "      <td>14269.0</td>\n",
              "      <td>https://open.spotify.com/track/6rQSrBHf7HlZjtc...</td>\n",
              "      <td>1/1/2017</td>\n",
              "      <td>ec</td>\n",
              "    </tr>\n",
              "  </tbody>\n",
              "</table>\n",
              "</div>\n",
              "      <button class=\"colab-df-convert\" onclick=\"convertToInteractive('df-277a76f4-38ce-4eeb-97a3-5b0b16ecaea4')\"\n",
              "              title=\"Convert this dataframe to an interactive table.\"\n",
              "              style=\"display:none;\">\n",
              "        \n",
              "  <svg xmlns=\"http://www.w3.org/2000/svg\" height=\"24px\"viewBox=\"0 0 24 24\"\n",
              "       width=\"24px\">\n",
              "    <path d=\"M0 0h24v24H0V0z\" fill=\"none\"/>\n",
              "    <path d=\"M18.56 5.44l.94 2.06.94-2.06 2.06-.94-2.06-.94-.94-2.06-.94 2.06-2.06.94zm-11 1L8.5 8.5l.94-2.06 2.06-.94-2.06-.94L8.5 2.5l-.94 2.06-2.06.94zm10 10l.94 2.06.94-2.06 2.06-.94-2.06-.94-.94-2.06-.94 2.06-2.06.94z\"/><path d=\"M17.41 7.96l-1.37-1.37c-.4-.4-.92-.59-1.43-.59-.52 0-1.04.2-1.43.59L10.3 9.45l-7.72 7.72c-.78.78-.78 2.05 0 2.83L4 21.41c.39.39.9.59 1.41.59.51 0 1.02-.2 1.41-.59l7.78-7.78 2.81-2.81c.8-.78.8-2.07 0-2.86zM5.41 20L4 18.59l7.72-7.72 1.47 1.35L5.41 20z\"/>\n",
              "  </svg>\n",
              "      </button>\n",
              "      \n",
              "  <style>\n",
              "    .colab-df-container {\n",
              "      display:flex;\n",
              "      flex-wrap:wrap;\n",
              "      gap: 12px;\n",
              "    }\n",
              "\n",
              "    .colab-df-convert {\n",
              "      background-color: #E8F0FE;\n",
              "      border: none;\n",
              "      border-radius: 50%;\n",
              "      cursor: pointer;\n",
              "      display: none;\n",
              "      fill: #1967D2;\n",
              "      height: 32px;\n",
              "      padding: 0 0 0 0;\n",
              "      width: 32px;\n",
              "    }\n",
              "\n",
              "    .colab-df-convert:hover {\n",
              "      background-color: #E2EBFA;\n",
              "      box-shadow: 0px 1px 2px rgba(60, 64, 67, 0.3), 0px 1px 3px 1px rgba(60, 64, 67, 0.15);\n",
              "      fill: #174EA6;\n",
              "    }\n",
              "\n",
              "    [theme=dark] .colab-df-convert {\n",
              "      background-color: #3B4455;\n",
              "      fill: #D2E3FC;\n",
              "    }\n",
              "\n",
              "    [theme=dark] .colab-df-convert:hover {\n",
              "      background-color: #434B5C;\n",
              "      box-shadow: 0px 1px 3px 1px rgba(0, 0, 0, 0.15);\n",
              "      filter: drop-shadow(0px 1px 2px rgba(0, 0, 0, 0.3));\n",
              "      fill: #FFFFFF;\n",
              "    }\n",
              "  </style>\n",
              "\n",
              "      <script>\n",
              "        const buttonEl =\n",
              "          document.querySelector('#df-277a76f4-38ce-4eeb-97a3-5b0b16ecaea4 button.colab-df-convert');\n",
              "        buttonEl.style.display =\n",
              "          google.colab.kernel.accessAllowed ? 'block' : 'none';\n",
              "\n",
              "        async function convertToInteractive(key) {\n",
              "          const element = document.querySelector('#df-277a76f4-38ce-4eeb-97a3-5b0b16ecaea4');\n",
              "          const dataTable =\n",
              "            await google.colab.kernel.invokeFunction('convertToInteractive',\n",
              "                                                     [key], {});\n",
              "          if (!dataTable) return;\n",
              "\n",
              "          const docLinkHtml = 'Like what you see? Visit the ' +\n",
              "            '<a target=\"_blank\" href=https://colab.research.google.com/notebooks/data_table.ipynb>data table notebook</a>'\n",
              "            + ' to learn more about interactive tables.';\n",
              "          element.innerHTML = '';\n",
              "          dataTable['output_type'] = 'display_data';\n",
              "          await google.colab.output.renderOutput(dataTable, element);\n",
              "          const docLink = document.createElement('div');\n",
              "          docLink.innerHTML = docLinkHtml;\n",
              "          element.appendChild(docLink);\n",
              "        }\n",
              "      </script>\n",
              "    </div>\n",
              "  </div>\n",
              "  "
            ]
          },
          "metadata": {},
          "execution_count": 12
        }
      ]
    },
    {
      "cell_type": "code",
      "source": [
        "MUSIC.tail()"
      ],
      "metadata": {
        "colab": {
          "base_uri": "https://localhost:8080/",
          "height": 206
        },
        "id": "L5_aP2aWsKzC",
        "outputId": "fd556a66-a86e-449c-9fce-6eb553723273"
      },
      "execution_count": null,
      "outputs": [
        {
          "output_type": "execute_result",
          "data": {
            "text/plain": [
              "         Position               Track Name               Artist  Streams  \\\n",
              "1048570      56.0             La Bicicleta         Carlos Vives  23883.0   \n",
              "1048571      57.0      Scared to Be Lonely        Martin Garrix  23649.0   \n",
              "1048572      58.0  Cuando Se Pone a Bailar               Rombai  22654.0   \n",
              "1048573      59.0         De Vez en Cuando  Franco \"El Gorilla\"  21903.0   \n",
              "1048574       NaN                      NaN                  NaN      NaN   \n",
              "\n",
              "                                                       URL       Date Region  \n",
              "1048570  https://open.spotify.com/track/0sXvAOmXgjR2QUq...  3/19/2017     cl  \n",
              "1048571  https://open.spotify.com/track/3ebXMykcMXOcLeJ...  3/19/2017     cl  \n",
              "1048572  https://open.spotify.com/track/1MpKZi1zTXpERKw...  3/19/2017     cl  \n",
              "1048573  https://open.spotify.com/track/1VRjHqcE8ttKtaj...  3/19/2017     cl  \n",
              "1048574                                                NaN        NaN    NaN  "
            ],
            "text/html": [
              "\n",
              "  <div id=\"df-a6c226ba-004b-4e5e-bbc7-f63414bf8fd9\">\n",
              "    <div class=\"colab-df-container\">\n",
              "      <div>\n",
              "<style scoped>\n",
              "    .dataframe tbody tr th:only-of-type {\n",
              "        vertical-align: middle;\n",
              "    }\n",
              "\n",
              "    .dataframe tbody tr th {\n",
              "        vertical-align: top;\n",
              "    }\n",
              "\n",
              "    .dataframe thead th {\n",
              "        text-align: right;\n",
              "    }\n",
              "</style>\n",
              "<table border=\"1\" class=\"dataframe\">\n",
              "  <thead>\n",
              "    <tr style=\"text-align: right;\">\n",
              "      <th></th>\n",
              "      <th>Position</th>\n",
              "      <th>Track Name</th>\n",
              "      <th>Artist</th>\n",
              "      <th>Streams</th>\n",
              "      <th>URL</th>\n",
              "      <th>Date</th>\n",
              "      <th>Region</th>\n",
              "    </tr>\n",
              "  </thead>\n",
              "  <tbody>\n",
              "    <tr>\n",
              "      <th>1048570</th>\n",
              "      <td>56.0</td>\n",
              "      <td>La Bicicleta</td>\n",
              "      <td>Carlos Vives</td>\n",
              "      <td>23883.0</td>\n",
              "      <td>https://open.spotify.com/track/0sXvAOmXgjR2QUq...</td>\n",
              "      <td>3/19/2017</td>\n",
              "      <td>cl</td>\n",
              "    </tr>\n",
              "    <tr>\n",
              "      <th>1048571</th>\n",
              "      <td>57.0</td>\n",
              "      <td>Scared to Be Lonely</td>\n",
              "      <td>Martin Garrix</td>\n",
              "      <td>23649.0</td>\n",
              "      <td>https://open.spotify.com/track/3ebXMykcMXOcLeJ...</td>\n",
              "      <td>3/19/2017</td>\n",
              "      <td>cl</td>\n",
              "    </tr>\n",
              "    <tr>\n",
              "      <th>1048572</th>\n",
              "      <td>58.0</td>\n",
              "      <td>Cuando Se Pone a Bailar</td>\n",
              "      <td>Rombai</td>\n",
              "      <td>22654.0</td>\n",
              "      <td>https://open.spotify.com/track/1MpKZi1zTXpERKw...</td>\n",
              "      <td>3/19/2017</td>\n",
              "      <td>cl</td>\n",
              "    </tr>\n",
              "    <tr>\n",
              "      <th>1048573</th>\n",
              "      <td>59.0</td>\n",
              "      <td>De Vez en Cuando</td>\n",
              "      <td>Franco \"El Gorilla\"</td>\n",
              "      <td>21903.0</td>\n",
              "      <td>https://open.spotify.com/track/1VRjHqcE8ttKtaj...</td>\n",
              "      <td>3/19/2017</td>\n",
              "      <td>cl</td>\n",
              "    </tr>\n",
              "    <tr>\n",
              "      <th>1048574</th>\n",
              "      <td>NaN</td>\n",
              "      <td>NaN</td>\n",
              "      <td>NaN</td>\n",
              "      <td>NaN</td>\n",
              "      <td>NaN</td>\n",
              "      <td>NaN</td>\n",
              "      <td>NaN</td>\n",
              "    </tr>\n",
              "  </tbody>\n",
              "</table>\n",
              "</div>\n",
              "      <button class=\"colab-df-convert\" onclick=\"convertToInteractive('df-a6c226ba-004b-4e5e-bbc7-f63414bf8fd9')\"\n",
              "              title=\"Convert this dataframe to an interactive table.\"\n",
              "              style=\"display:none;\">\n",
              "        \n",
              "  <svg xmlns=\"http://www.w3.org/2000/svg\" height=\"24px\"viewBox=\"0 0 24 24\"\n",
              "       width=\"24px\">\n",
              "    <path d=\"M0 0h24v24H0V0z\" fill=\"none\"/>\n",
              "    <path d=\"M18.56 5.44l.94 2.06.94-2.06 2.06-.94-2.06-.94-.94-2.06-.94 2.06-2.06.94zm-11 1L8.5 8.5l.94-2.06 2.06-.94-2.06-.94L8.5 2.5l-.94 2.06-2.06.94zm10 10l.94 2.06.94-2.06 2.06-.94-2.06-.94-.94-2.06-.94 2.06-2.06.94z\"/><path d=\"M17.41 7.96l-1.37-1.37c-.4-.4-.92-.59-1.43-.59-.52 0-1.04.2-1.43.59L10.3 9.45l-7.72 7.72c-.78.78-.78 2.05 0 2.83L4 21.41c.39.39.9.59 1.41.59.51 0 1.02-.2 1.41-.59l7.78-7.78 2.81-2.81c.8-.78.8-2.07 0-2.86zM5.41 20L4 18.59l7.72-7.72 1.47 1.35L5.41 20z\"/>\n",
              "  </svg>\n",
              "      </button>\n",
              "      \n",
              "  <style>\n",
              "    .colab-df-container {\n",
              "      display:flex;\n",
              "      flex-wrap:wrap;\n",
              "      gap: 12px;\n",
              "    }\n",
              "\n",
              "    .colab-df-convert {\n",
              "      background-color: #E8F0FE;\n",
              "      border: none;\n",
              "      border-radius: 50%;\n",
              "      cursor: pointer;\n",
              "      display: none;\n",
              "      fill: #1967D2;\n",
              "      height: 32px;\n",
              "      padding: 0 0 0 0;\n",
              "      width: 32px;\n",
              "    }\n",
              "\n",
              "    .colab-df-convert:hover {\n",
              "      background-color: #E2EBFA;\n",
              "      box-shadow: 0px 1px 2px rgba(60, 64, 67, 0.3), 0px 1px 3px 1px rgba(60, 64, 67, 0.15);\n",
              "      fill: #174EA6;\n",
              "    }\n",
              "\n",
              "    [theme=dark] .colab-df-convert {\n",
              "      background-color: #3B4455;\n",
              "      fill: #D2E3FC;\n",
              "    }\n",
              "\n",
              "    [theme=dark] .colab-df-convert:hover {\n",
              "      background-color: #434B5C;\n",
              "      box-shadow: 0px 1px 3px 1px rgba(0, 0, 0, 0.15);\n",
              "      filter: drop-shadow(0px 1px 2px rgba(0, 0, 0, 0.3));\n",
              "      fill: #FFFFFF;\n",
              "    }\n",
              "  </style>\n",
              "\n",
              "      <script>\n",
              "        const buttonEl =\n",
              "          document.querySelector('#df-a6c226ba-004b-4e5e-bbc7-f63414bf8fd9 button.colab-df-convert');\n",
              "        buttonEl.style.display =\n",
              "          google.colab.kernel.accessAllowed ? 'block' : 'none';\n",
              "\n",
              "        async function convertToInteractive(key) {\n",
              "          const element = document.querySelector('#df-a6c226ba-004b-4e5e-bbc7-f63414bf8fd9');\n",
              "          const dataTable =\n",
              "            await google.colab.kernel.invokeFunction('convertToInteractive',\n",
              "                                                     [key], {});\n",
              "          if (!dataTable) return;\n",
              "\n",
              "          const docLinkHtml = 'Like what you see? Visit the ' +\n",
              "            '<a target=\"_blank\" href=https://colab.research.google.com/notebooks/data_table.ipynb>data table notebook</a>'\n",
              "            + ' to learn more about interactive tables.';\n",
              "          element.innerHTML = '';\n",
              "          dataTable['output_type'] = 'display_data';\n",
              "          await google.colab.output.renderOutput(dataTable, element);\n",
              "          const docLink = document.createElement('div');\n",
              "          docLink.innerHTML = docLinkHtml;\n",
              "          element.appendChild(docLink);\n",
              "        }\n",
              "      </script>\n",
              "    </div>\n",
              "  </div>\n",
              "  "
            ]
          },
          "metadata": {},
          "execution_count": 13
        }
      ]
    },
    {
      "cell_type": "code",
      "source": [
        "MUSIC.describe()"
      ],
      "metadata": {
        "colab": {
          "base_uri": "https://localhost:8080/",
          "height": 300
        },
        "id": "08cHlDAnsNhS",
        "outputId": "cc0c9440-743f-45d8-b1bb-a4eb61b68a7a"
      },
      "execution_count": null,
      "outputs": [
        {
          "output_type": "execute_result",
          "data": {
            "text/plain": [
              "           Position       Streams\n",
              "count  1.048574e+06  1.048471e+06\n",
              "mean   9.671629e+01  4.839170e+04\n",
              "std    5.812127e+01  1.145449e+05\n",
              "min    1.000000e+00  1.001000e+03\n",
              "25%    4.600000e+01  5.542000e+03\n",
              "50%    9.500000e+01  1.523400e+04\n",
              "75%    1.470000e+02  3.690200e+04\n",
              "max    2.000000e+02  4.068152e+06"
            ],
            "text/html": [
              "\n",
              "  <div id=\"df-259fa3d7-8eaf-4256-b70c-542674930f02\">\n",
              "    <div class=\"colab-df-container\">\n",
              "      <div>\n",
              "<style scoped>\n",
              "    .dataframe tbody tr th:only-of-type {\n",
              "        vertical-align: middle;\n",
              "    }\n",
              "\n",
              "    .dataframe tbody tr th {\n",
              "        vertical-align: top;\n",
              "    }\n",
              "\n",
              "    .dataframe thead th {\n",
              "        text-align: right;\n",
              "    }\n",
              "</style>\n",
              "<table border=\"1\" class=\"dataframe\">\n",
              "  <thead>\n",
              "    <tr style=\"text-align: right;\">\n",
              "      <th></th>\n",
              "      <th>Position</th>\n",
              "      <th>Streams</th>\n",
              "    </tr>\n",
              "  </thead>\n",
              "  <tbody>\n",
              "    <tr>\n",
              "      <th>count</th>\n",
              "      <td>1.048574e+06</td>\n",
              "      <td>1.048471e+06</td>\n",
              "    </tr>\n",
              "    <tr>\n",
              "      <th>mean</th>\n",
              "      <td>9.671629e+01</td>\n",
              "      <td>4.839170e+04</td>\n",
              "    </tr>\n",
              "    <tr>\n",
              "      <th>std</th>\n",
              "      <td>5.812127e+01</td>\n",
              "      <td>1.145449e+05</td>\n",
              "    </tr>\n",
              "    <tr>\n",
              "      <th>min</th>\n",
              "      <td>1.000000e+00</td>\n",
              "      <td>1.001000e+03</td>\n",
              "    </tr>\n",
              "    <tr>\n",
              "      <th>25%</th>\n",
              "      <td>4.600000e+01</td>\n",
              "      <td>5.542000e+03</td>\n",
              "    </tr>\n",
              "    <tr>\n",
              "      <th>50%</th>\n",
              "      <td>9.500000e+01</td>\n",
              "      <td>1.523400e+04</td>\n",
              "    </tr>\n",
              "    <tr>\n",
              "      <th>75%</th>\n",
              "      <td>1.470000e+02</td>\n",
              "      <td>3.690200e+04</td>\n",
              "    </tr>\n",
              "    <tr>\n",
              "      <th>max</th>\n",
              "      <td>2.000000e+02</td>\n",
              "      <td>4.068152e+06</td>\n",
              "    </tr>\n",
              "  </tbody>\n",
              "</table>\n",
              "</div>\n",
              "      <button class=\"colab-df-convert\" onclick=\"convertToInteractive('df-259fa3d7-8eaf-4256-b70c-542674930f02')\"\n",
              "              title=\"Convert this dataframe to an interactive table.\"\n",
              "              style=\"display:none;\">\n",
              "        \n",
              "  <svg xmlns=\"http://www.w3.org/2000/svg\" height=\"24px\"viewBox=\"0 0 24 24\"\n",
              "       width=\"24px\">\n",
              "    <path d=\"M0 0h24v24H0V0z\" fill=\"none\"/>\n",
              "    <path d=\"M18.56 5.44l.94 2.06.94-2.06 2.06-.94-2.06-.94-.94-2.06-.94 2.06-2.06.94zm-11 1L8.5 8.5l.94-2.06 2.06-.94-2.06-.94L8.5 2.5l-.94 2.06-2.06.94zm10 10l.94 2.06.94-2.06 2.06-.94-2.06-.94-.94-2.06-.94 2.06-2.06.94z\"/><path d=\"M17.41 7.96l-1.37-1.37c-.4-.4-.92-.59-1.43-.59-.52 0-1.04.2-1.43.59L10.3 9.45l-7.72 7.72c-.78.78-.78 2.05 0 2.83L4 21.41c.39.39.9.59 1.41.59.51 0 1.02-.2 1.41-.59l7.78-7.78 2.81-2.81c.8-.78.8-2.07 0-2.86zM5.41 20L4 18.59l7.72-7.72 1.47 1.35L5.41 20z\"/>\n",
              "  </svg>\n",
              "      </button>\n",
              "      \n",
              "  <style>\n",
              "    .colab-df-container {\n",
              "      display:flex;\n",
              "      flex-wrap:wrap;\n",
              "      gap: 12px;\n",
              "    }\n",
              "\n",
              "    .colab-df-convert {\n",
              "      background-color: #E8F0FE;\n",
              "      border: none;\n",
              "      border-radius: 50%;\n",
              "      cursor: pointer;\n",
              "      display: none;\n",
              "      fill: #1967D2;\n",
              "      height: 32px;\n",
              "      padding: 0 0 0 0;\n",
              "      width: 32px;\n",
              "    }\n",
              "\n",
              "    .colab-df-convert:hover {\n",
              "      background-color: #E2EBFA;\n",
              "      box-shadow: 0px 1px 2px rgba(60, 64, 67, 0.3), 0px 1px 3px 1px rgba(60, 64, 67, 0.15);\n",
              "      fill: #174EA6;\n",
              "    }\n",
              "\n",
              "    [theme=dark] .colab-df-convert {\n",
              "      background-color: #3B4455;\n",
              "      fill: #D2E3FC;\n",
              "    }\n",
              "\n",
              "    [theme=dark] .colab-df-convert:hover {\n",
              "      background-color: #434B5C;\n",
              "      box-shadow: 0px 1px 3px 1px rgba(0, 0, 0, 0.15);\n",
              "      filter: drop-shadow(0px 1px 2px rgba(0, 0, 0, 0.3));\n",
              "      fill: #FFFFFF;\n",
              "    }\n",
              "  </style>\n",
              "\n",
              "      <script>\n",
              "        const buttonEl =\n",
              "          document.querySelector('#df-259fa3d7-8eaf-4256-b70c-542674930f02 button.colab-df-convert');\n",
              "        buttonEl.style.display =\n",
              "          google.colab.kernel.accessAllowed ? 'block' : 'none';\n",
              "\n",
              "        async function convertToInteractive(key) {\n",
              "          const element = document.querySelector('#df-259fa3d7-8eaf-4256-b70c-542674930f02');\n",
              "          const dataTable =\n",
              "            await google.colab.kernel.invokeFunction('convertToInteractive',\n",
              "                                                     [key], {});\n",
              "          if (!dataTable) return;\n",
              "\n",
              "          const docLinkHtml = 'Like what you see? Visit the ' +\n",
              "            '<a target=\"_blank\" href=https://colab.research.google.com/notebooks/data_table.ipynb>data table notebook</a>'\n",
              "            + ' to learn more about interactive tables.';\n",
              "          element.innerHTML = '';\n",
              "          dataTable['output_type'] = 'display_data';\n",
              "          await google.colab.output.renderOutput(dataTable, element);\n",
              "          const docLink = document.createElement('div');\n",
              "          docLink.innerHTML = docLinkHtml;\n",
              "          element.appendChild(docLink);\n",
              "        }\n",
              "      </script>\n",
              "    </div>\n",
              "  </div>\n",
              "  "
            ]
          },
          "metadata": {},
          "execution_count": 14
        }
      ]
    },
    {
      "cell_type": "code",
      "source": [
        "MUSIC.info()"
      ],
      "metadata": {
        "colab": {
          "base_uri": "https://localhost:8080/"
        },
        "id": "SjVHXuFlsgqZ",
        "outputId": "44f52a08-76c0-4113-8cba-f07c5a48ed75"
      },
      "execution_count": null,
      "outputs": [
        {
          "output_type": "stream",
          "name": "stdout",
          "text": [
            "<class 'pandas.core.frame.DataFrame'>\n",
            "RangeIndex: 1048575 entries, 0 to 1048574\n",
            "Data columns (total 7 columns):\n",
            " #   Column      Non-Null Count    Dtype  \n",
            "---  ------      --------------    -----  \n",
            " 0   Position    1048574 non-null  float64\n",
            " 1   Track Name  1048384 non-null  object \n",
            " 2   Artist      1048384 non-null  object \n",
            " 3   Streams     1048471 non-null  float64\n",
            " 4   URL         1048574 non-null  object \n",
            " 5   Date        1048574 non-null  object \n",
            " 6   Region      1048574 non-null  object \n",
            "dtypes: float64(2), object(5)\n",
            "memory usage: 56.0+ MB\n"
          ]
        }
      ]
    },
    {
      "cell_type": "markdown",
      "source": [
        "**DATA** **ANALYSIS**"
      ],
      "metadata": {
        "id": "tgA9ujzQ7QdE"
      }
    },
    {
      "cell_type": "markdown",
      "source": [
        "# TOP FIVE ARTIST\n",
        "\n",
        "\n",
        "\n"
      ],
      "metadata": {
        "id": "ltGrrMSv7UpE"
      }
    },
    {
      "cell_type": "code",
      "source": [
        "top_artist=MUSIC.groupby(\"Artist\").count().sort_values(by=\"Track Name\",ascending=False)[\"Track Name\"][:5]\n",
        "top_artist"
      ],
      "metadata": {
        "id": "-3iC4hMfrtBI",
        "colab": {
          "base_uri": "https://localhost:8080/"
        },
        "outputId": "fccb28f2-c2aa-49f0-c10c-f6156ce91871"
      },
      "execution_count": null,
      "outputs": [
        {
          "output_type": "execute_result",
          "data": {
            "text/plain": [
              "Artist\n",
              "Ed Sheeran          32935\n",
              "The Chainsmokers    19886\n",
              "Drake               13392\n",
              "Calvin Harris       10984\n",
              "Imagine Dragons     10608\n",
              "Name: Track Name, dtype: int64"
            ]
          },
          "metadata": {},
          "execution_count": 18
        }
      ]
    },
    {
      "cell_type": "code",
      "source": [
        "top_artist.plot.barh()\n",
        "plt.show()"
      ],
      "metadata": {
        "id": "pwYfxR08tSLd",
        "colab": {
          "base_uri": "https://localhost:8080/",
          "height": 430
        },
        "outputId": "c461221d-8e74-4799-9a1d-fdab3522fdbe"
      },
      "execution_count": null,
      "outputs": [
        {
          "output_type": "display_data",
          "data": {
            "text/plain": [
              "<Figure size 640x480 with 1 Axes>"
            ],
            "image/png": "[encoded data removed]"
          },
          "metadata": {}
        }
      ]
    },
    {
      "cell_type": "markdown",
      "source": [
        "# TOP FIVE TRACK NAME"
      ],
      "metadata": {
        "id": "X84fUyEo7owm"
      }
    },
    {
      "cell_type": "code",
      "source": [
        "top_TrackName=MUSIC.groupby(\"Track Name\").count().sort_values(by=\"Artist\",ascending=False)[\"Artist\"][:5]\n",
        "top_TrackName"
      ],
      "metadata": {
        "colab": {
          "base_uri": "https://localhost:8080/"
        },
        "id": "XbUPxerTuSGP",
        "outputId": "f7578be8-1895-4b6c-ba31-3775fb2e2abc"
      },
      "execution_count": null,
      "outputs": [
        {
          "output_type": "execute_result",
          "data": {
            "text/plain": [
              "Track Name\n",
              "Shape of You                          5733\n",
              "????                                  5582\n",
              "Believer                              4933\n",
              "Despacito (Featuring Daddy Yankee)    4752\n",
              "Something Just Like This              4714\n",
              "Name: Artist, dtype: int64"
            ]
          },
          "metadata": {},
          "execution_count": 20
        }
      ]
    },
    {
      "cell_type": "code",
      "source": [
        "top_TrackName.plot.barh()\n",
        "plt.show()"
      ],
      "metadata": {
        "colab": {
          "base_uri": "https://localhost:8080/",
          "height": 430
        },
        "id": "M9mMfUFQuu-C",
        "outputId": "a4d87106-8d9b-4618-88f6-b78abca288af"
      },
      "execution_count": null,
      "outputs": [
        {
          "output_type": "display_data",
          "data": {
            "text/plain": [
              "<Figure size 640x480 with 1 Axes>"
            ],
            "image/png": "[encoded data removed]"
          },
          "metadata": {}
        }
      ]
    },
    {
      "cell_type": "markdown",
      "source": [
        "#TOP FIVE TRACK POSITION"
      ],
      "metadata": {
        "id": "FArqyPOi7wBI"
      }
    },
    {
      "cell_type": "code",
      "source": [
        "top_track_position=MUSIC[[\"Position\",\"Track Name\",\"Artist\"]].sort_values(by=\"Position\",ascending=False)[:5]\n",
        "top_track_position"
      ],
      "metadata": {
        "colab": {
          "base_uri": "https://localhost:8080/",
          "height": 206
        },
        "id": "rR-9hc_Iu0j2",
        "outputId": "cea3ab97-708e-4531-be55-6590f6cc4b55"
      },
      "execution_count": null,
      "outputs": [
        {
          "output_type": "execute_result",
          "data": {
            "text/plain": [
              "         Position                           Track Name       Artist\n",
              "390999      200.0                                Touch   Little Mix\n",
              "645198      200.0  I Took A Pill In Ibiza - Seeb Remix  Mike Posner\n",
              "244999      200.0                             Sireenit      Evelina\n",
              "1033114     200.0              Wonderwall - Remastered        Oasis\n",
              "88199       200.0                          Les princes           MZ"
            ],
            "text/html": [
              "\n",
              "  <div id=\"df-e9cf877c-db86-412f-a64c-ae73badd0ddb\">\n",
              "    <div class=\"colab-df-container\">\n",
              "      <div>\n",
              "<style scoped>\n",
              "    .dataframe tbody tr th:only-of-type {\n",
              "        vertical-align: middle;\n",
              "    }\n",
              "\n",
              "    .dataframe tbody tr th {\n",
              "        vertical-align: top;\n",
              "    }\n",
              "\n",
              "    .dataframe thead th {\n",
              "        text-align: right;\n",
              "    }\n",
              "</style>\n",
              "<table border=\"1\" class=\"dataframe\">\n",
              "  <thead>\n",
              "    <tr style=\"text-align: right;\">\n",
              "      <th></th>\n",
              "      <th>Position</th>\n",
              "      <th>Track Name</th>\n",
              "      <th>Artist</th>\n",
              "    </tr>\n",
              "  </thead>\n",
              "  <tbody>\n",
              "    <tr>\n",
              "      <th>390999</th>\n",
              "      <td>200.0</td>\n",
              "      <td>Touch</td>\n",
              "      <td>Little Mix</td>\n",
              "    </tr>\n",
              "    <tr>\n",
              "      <th>645198</th>\n",
              "      <td>200.0</td>\n",
              "      <td>I Took A Pill In Ibiza - Seeb Remix</td>\n",
              "      <td>Mike Posner</td>\n",
              "    </tr>\n",
              "    <tr>\n",
              "      <th>244999</th>\n",
              "      <td>200.0</td>\n",
              "      <td>Sireenit</td>\n",
              "      <td>Evelina</td>\n",
              "    </tr>\n",
              "    <tr>\n",
              "      <th>1033114</th>\n",
              "      <td>200.0</td>\n",
              "      <td>Wonderwall - Remastered</td>\n",
              "      <td>Oasis</td>\n",
              "    </tr>\n",
              "    <tr>\n",
              "      <th>88199</th>\n",
              "      <td>200.0</td>\n",
              "      <td>Les princes</td>\n",
              "      <td>MZ</td>\n",
              "    </tr>\n",
              "  </tbody>\n",
              "</table>\n",
              "</div>\n",
              "      <button class=\"colab-df-convert\" onclick=\"convertToInteractive('df-e9cf877c-db86-412f-a64c-ae73badd0ddb')\"\n",
              "              title=\"Convert this dataframe to an interactive table.\"\n",
              "              style=\"display:none;\">\n",
              "        \n",
              "  <svg xmlns=\"http://www.w3.org/2000/svg\" height=\"24px\"viewBox=\"0 0 24 24\"\n",
              "       width=\"24px\">\n",
              "    <path d=\"M0 0h24v24H0V0z\" fill=\"none\"/>\n",
              "    <path d=\"M18.56 5.44l.94 2.06.94-2.06 2.06-.94-2.06-.94-.94-2.06-.94 2.06-2.06.94zm-11 1L8.5 8.5l.94-2.06 2.06-.94-2.06-.94L8.5 2.5l-.94 2.06-2.06.94zm10 10l.94 2.06.94-2.06 2.06-.94-2.06-.94-.94-2.06-.94 2.06-2.06.94z\"/><path d=\"M17.41 7.96l-1.37-1.37c-.4-.4-.92-.59-1.43-.59-.52 0-1.04.2-1.43.59L10.3 9.45l-7.72 7.72c-.78.78-.78 2.05 0 2.83L4 21.41c.39.39.9.59 1.41.59.51 0 1.02-.2 1.41-.59l7.78-7.78 2.81-2.81c.8-.78.8-2.07 0-2.86zM5.41 20L4 18.59l7.72-7.72 1.47 1.35L5.41 20z\"/>\n",
              "  </svg>\n",
              "      </button>\n",
              "      \n",
              "  <style>\n",
              "    .colab-df-container {\n",
              "      display:flex;\n",
              "      flex-wrap:wrap;\n",
              "      gap: 12px;\n",
              "    }\n",
              "\n",
              "    .colab-df-convert {\n",
              "      background-color: #E8F0FE;\n",
              "      border: none;\n",
              "      border-radius: 50%;\n",
              "      cursor: pointer;\n",
              "      display: none;\n",
              "      fill: #1967D2;\n",
              "      height: 32px;\n",
              "      padding: 0 0 0 0;\n",
              "      width: 32px;\n",
              "    }\n",
              "\n",
              "    .colab-df-convert:hover {\n",
              "      background-color: #E2EBFA;\n",
              "      box-shadow: 0px 1px 2px rgba(60, 64, 67, 0.3), 0px 1px 3px 1px rgba(60, 64, 67, 0.15);\n",
              "      fill: #174EA6;\n",
              "    }\n",
              "\n",
              "    [theme=dark] .colab-df-convert {\n",
              "      background-color: #3B4455;\n",
              "      fill: #D2E3FC;\n",
              "    }\n",
              "\n",
              "    [theme=dark] .colab-df-convert:hover {\n",
              "      background-color: #434B5C;\n",
              "      box-shadow: 0px 1px 3px 1px rgba(0, 0, 0, 0.15);\n",
              "      filter: drop-shadow(0px 1px 2px rgba(0, 0, 0, 0.3));\n",
              "      fill: #FFFFFF;\n",
              "    }\n",
              "  </style>\n",
              "\n",
              "      <script>\n",
              "        const buttonEl =\n",
              "          document.querySelector('#df-e9cf877c-db86-412f-a64c-ae73badd0ddb button.colab-df-convert');\n",
              "        buttonEl.style.display =\n",
              "          google.colab.kernel.accessAllowed ? 'block' : 'none';\n",
              "\n",
              "        async function convertToInteractive(key) {\n",
              "          const element = document.querySelector('#df-e9cf877c-db86-412f-a64c-ae73badd0ddb');\n",
              "          const dataTable =\n",
              "            await google.colab.kernel.invokeFunction('convertToInteractive',\n",
              "                                                     [key], {});\n",
              "          if (!dataTable) return;\n",
              "\n",
              "          const docLinkHtml = 'Like what you see? Visit the ' +\n",
              "            '<a target=\"_blank\" href=https://colab.research.google.com/notebooks/data_table.ipynb>data table notebook</a>'\n",
              "            + ' to learn more about interactive tables.';\n",
              "          element.innerHTML = '';\n",
              "          dataTable['output_type'] = 'display_data';\n",
              "          await google.colab.output.renderOutput(dataTable, element);\n",
              "          const docLink = document.createElement('div');\n",
              "          docLink.innerHTML = docLinkHtml;\n",
              "          element.appendChild(docLink);\n",
              "        }\n",
              "      </script>\n",
              "    </div>\n",
              "  </div>\n",
              "  "
            ]
          },
          "metadata": {},
          "execution_count": 28
        }
      ]
    },
    {
      "cell_type": "code",
      "source": [
        "top_track_position.plot.barh()\n",
        "plt.show()"
      ],
      "metadata": {
        "colab": {
          "base_uri": "https://localhost:8080/",
          "height": 430
        },
        "id": "sqQfPFQcxMcb",
        "outputId": "f7c37508-eebd-46fb-a117-74a9ba76b0cf"
      },
      "execution_count": null,
      "outputs": [
        {
          "output_type": "display_data",
          "data": {
            "text/plain": [
              "<Figure size 640x480 with 1 Axes>"
            ],
            "image/png": "[encoded data removed]"
          },
          "metadata": {}
        }
      ]
    },
    {
      "cell_type": "markdown",
      "source": [
        "**DATA VISUVALIZATION**"
      ],
      "metadata": {
        "id": "pRvsSJ_T72Y3"
      }
    },
    {
      "cell_type": "code",
      "source": [
        "import seaborn as sns"
      ],
      "metadata": {
        "id": "wyY0Ls7o810D"
      },
      "execution_count": null,
      "outputs": []
    },
    {
      "cell_type": "code",
      "source": [
        "plt.figure(figsize=(10, 5))\n",
        "sns.heatmap(MUSIC.corr(),annot=True)\n",
        "#sns.heatmap(MUSIC.corr())\n",
        "plt.show()"
      ],
      "metadata": {
        "id": "jJDXtaSsuZ1F",
        "colab": {
          "base_uri": "https://localhost:8080/",
          "height": 506
        },
        "outputId": "47efd476-da08-4c59-968d-80a917631ccb"
      },
      "execution_count": null,
      "outputs": [
        {
          "output_type": "stream",
          "name": "stderr",
          "text": [
            "<ipython-input-32-4cc98874361d>:2: FutureWarning: The default value of numeric_only in DataFrame.corr is deprecated. In a future version, it will default to False. Select only valid columns or specify the value of numeric_only to silence this warning.\n",
            "  sns.heatmap(MUSIC.corr(),annot=True)\n"
          ]
        },
        {
          "output_type": "display_data",
          "data": {
            "text/plain": [
              "<Figure size 1000x500 with 2 Axes>"
            ],
            "image/png": "[encoded data removed]"
          },
          "metadata": {}
        }
      ]
    },
    {
      "cell_type": "code",
      "source": [
        "from sklearn import preprocessing\n",
        "# create the Labelencoder object\n",
        "le = preprocessing.LabelEncoder()\n",
        "#convert the categorical columns into numeric\n",
        "MUSIC['Track Name'] = le.fit_transform(MUSIC['Track Name'])\n",
        "MUSIC.head()"
      ],
      "metadata": {
        "colab": {
          "base_uri": "https://localhost:8080/",
          "height": 237
        },
        "id": "W5ucv6rxyuhC",
        "outputId": "01f4332d-9548-41f3-bf29-e5c2f0a7bb85"
      },
      "execution_count": null,
      "outputs": [
        {
          "output_type": "execute_result",
          "data": {
            "text/plain": [
              "            Position  Track Name         Artist  Streams  \\\n",
              "Date                                                       \n",
              "2017-01-01       1.0        6696           CNCO  19272.0   \n",
              "2017-01-01       2.0        1522        Shakira  19270.0   \n",
              "2017-01-01       3.0        6086  Zion & Lennox  15761.0   \n",
              "2017-01-01       4.0        8540   Ricky Martin  14954.0   \n",
              "2017-01-01       5.0        6932       J Balvin  14269.0   \n",
              "\n",
              "                                                          URL Region  \n",
              "Date                                                                  \n",
              "2017-01-01  https://open.spotify.com/track/3AEZUABDXNtecAO...     ec  \n",
              "2017-01-01  https://open.spotify.com/track/6mICuAdrwEjh6Y6...     ec  \n",
              "2017-01-01  https://open.spotify.com/track/3QwBODjSEzelZyV...     ec  \n",
              "2017-01-01  https://open.spotify.com/track/7DM4BPaS7uofFul...     ec  \n",
              "2017-01-01  https://open.spotify.com/track/6rQSrBHf7HlZjtc...     ec  "
            ],
            "text/html": [
              "\n",
              "  <div id=\"df-9c614fd2-a5a4-4de7-9535-37c376d24374\">\n",
              "    <div class=\"colab-df-container\">\n",
              "      <div>\n",
              "<style scoped>\n",
              "    .dataframe tbody tr th:only-of-type {\n",
              "        vertical-align: middle;\n",
              "    }\n",
              "\n",
              "    .dataframe tbody tr th {\n",
              "        vertical-align: top;\n",
              "    }\n",
              "\n",
              "    .dataframe thead th {\n",
              "        text-align: right;\n",
              "    }\n",
              "</style>\n",
              "<table border=\"1\" class=\"dataframe\">\n",
              "  <thead>\n",
              "    <tr style=\"text-align: right;\">\n",
              "      <th></th>\n",
              "      <th>Position</th>\n",
              "      <th>Track Name</th>\n",
              "      <th>Artist</th>\n",
              "      <th>Streams</th>\n",
              "      <th>URL</th>\n",
              "      <th>Region</th>\n",
              "    </tr>\n",
              "    <tr>\n",
              "      <th>Date</th>\n",
              "      <th></th>\n",
              "      <th></th>\n",
              "      <th></th>\n",
              "      <th></th>\n",
              "      <th></th>\n",
              "      <th></th>\n",
              "    </tr>\n",
              "  </thead>\n",
              "  <tbody>\n",
              "    <tr>\n",
              "      <th>2017-01-01</th>\n",
              "      <td>1.0</td>\n",
              "      <td>6696</td>\n",
              "      <td>CNCO</td>\n",
              "      <td>19272.0</td>\n",
              "      <td>https://open.spotify.com/track/3AEZUABDXNtecAO...</td>\n",
              "      <td>ec</td>\n",
              "    </tr>\n",
              "    <tr>\n",
              "      <th>2017-01-01</th>\n",
              "      <td>2.0</td>\n",
              "      <td>1522</td>\n",
              "      <td>Shakira</td>\n",
              "      <td>19270.0</td>\n",
              "      <td>https://open.spotify.com/track/6mICuAdrwEjh6Y6...</td>\n",
              "      <td>ec</td>\n",
              "    </tr>\n",
              "    <tr>\n",
              "      <th>2017-01-01</th>\n",
              "      <td>3.0</td>\n",
              "      <td>6086</td>\n",
              "      <td>Zion &amp; Lennox</td>\n",
              "      <td>15761.0</td>\n",
              "      <td>https://open.spotify.com/track/3QwBODjSEzelZyV...</td>\n",
              "      <td>ec</td>\n",
              "    </tr>\n",
              "    <tr>\n",
              "      <th>2017-01-01</th>\n",
              "      <td>4.0</td>\n",
              "      <td>8540</td>\n",
              "      <td>Ricky Martin</td>\n",
              "      <td>14954.0</td>\n",
              "      <td>https://open.spotify.com/track/7DM4BPaS7uofFul...</td>\n",
              "      <td>ec</td>\n",
              "    </tr>\n",
              "    <tr>\n",
              "      <th>2017-01-01</th>\n",
              "      <td>5.0</td>\n",
              "      <td>6932</td>\n",
              "      <td>J Balvin</td>\n",
              "      <td>14269.0</td>\n",
              "      <td>https://open.spotify.com/track/6rQSrBHf7HlZjtc...</td>\n",
              "      <td>ec</td>\n",
              "    </tr>\n",
              "  </tbody>\n",
              "</table>\n",
              "</div>\n",
              "      <button class=\"colab-df-convert\" onclick=\"convertToInteractive('df-9c614fd2-a5a4-4de7-9535-37c376d24374')\"\n",
              "              title=\"Convert this dataframe to an interactive table.\"\n",
              "              style=\"display:none;\">\n",
              "        \n",
              "  <svg xmlns=\"http://www.w3.org/2000/svg\" height=\"24px\"viewBox=\"0 0 24 24\"\n",
              "       width=\"24px\">\n",
              "    <path d=\"M0 0h24v24H0V0z\" fill=\"none\"/>\n",
              "    <path d=\"M18.56 5.44l.94 2.06.94-2.06 2.06-.94-2.06-.94-.94-2.06-.94 2.06-2.06.94zm-11 1L8.5 8.5l.94-2.06 2.06-.94-2.06-.94L8.5 2.5l-.94 2.06-2.06.94zm10 10l.94 2.06.94-2.06 2.06-.94-2.06-.94-.94-2.06-.94 2.06-2.06.94z\"/><path d=\"M17.41 7.96l-1.37-1.37c-.4-.4-.92-.59-1.43-.59-.52 0-1.04.2-1.43.59L10.3 9.45l-7.72 7.72c-.78.78-.78 2.05 0 2.83L4 21.41c.39.39.9.59 1.41.59.51 0 1.02-.2 1.41-.59l7.78-7.78 2.81-2.81c.8-.78.8-2.07 0-2.86zM5.41 20L4 18.59l7.72-7.72 1.47 1.35L5.41 20z\"/>\n",
              "  </svg>\n",
              "      </button>\n",
              "      \n",
              "  <style>\n",
              "    .colab-df-container {\n",
              "      display:flex;\n",
              "      flex-wrap:wrap;\n",
              "      gap: 12px;\n",
              "    }\n",
              "\n",
              "    .colab-df-convert {\n",
              "      background-color: #E8F0FE;\n",
              "      border: none;\n",
              "      border-radius: 50%;\n",
              "      cursor: pointer;\n",
              "      display: none;\n",
              "      fill: #1967D2;\n",
              "      height: 32px;\n",
              "      padding: 0 0 0 0;\n",
              "      width: 32px;\n",
              "    }\n",
              "\n",
              "    .colab-df-convert:hover {\n",
              "      background-color: #E2EBFA;\n",
              "      box-shadow: 0px 1px 2px rgba(60, 64, 67, 0.3), 0px 1px 3px 1px rgba(60, 64, 67, 0.15);\n",
              "      fill: #174EA6;\n",
              "    }\n",
              "\n",
              "    [theme=dark] .colab-df-convert {\n",
              "      background-color: #3B4455;\n",
              "      fill: #D2E3FC;\n",
              "    }\n",
              "\n",
              "    [theme=dark] .colab-df-convert:hover {\n",
              "      background-color: #434B5C;\n",
              "      box-shadow: 0px 1px 3px 1px rgba(0, 0, 0, 0.15);\n",
              "      filter: drop-shadow(0px 1px 2px rgba(0, 0, 0, 0.3));\n",
              "      fill: #FFFFFF;\n",
              "    }\n",
              "  </style>\n",
              "\n",
              "      <script>\n",
              "        const buttonEl =\n",
              "          document.querySelector('#df-9c614fd2-a5a4-4de7-9535-37c376d24374 button.colab-df-convert');\n",
              "        buttonEl.style.display =\n",
              "          google.colab.kernel.accessAllowed ? 'block' : 'none';\n",
              "\n",
              "        async function convertToInteractive(key) {\n",
              "          const element = document.querySelector('#df-9c614fd2-a5a4-4de7-9535-37c376d24374');\n",
              "          const dataTable =\n",
              "            await google.colab.kernel.invokeFunction('convertToInteractive',\n",
              "                                                     [key], {});\n",
              "          if (!dataTable) return;\n",
              "\n",
              "          const docLinkHtml = 'Like what you see? Visit the ' +\n",
              "            '<a target=\"_blank\" href=https://colab.research.google.com/notebooks/data_table.ipynb>data table notebook</a>'\n",
              "            + ' to learn more about interactive tables.';\n",
              "          element.innerHTML = '';\n",
              "          dataTable['output_type'] = 'display_data';\n",
              "          await google.colab.output.renderOutput(dataTable, element);\n",
              "          const docLink = document.createElement('div');\n",
              "          docLink.innerHTML = docLinkHtml;\n",
              "          element.appendChild(docLink);\n",
              "        }\n",
              "      </script>\n",
              "    </div>\n",
              "  </div>\n",
              "  "
            ]
          },
          "metadata": {},
          "execution_count": 34
        }
      ]
    },
    {
      "cell_type": "code",
      "source": [
        "from sklearn import preprocessing\n",
        "# create the Labelencoder object\n",
        "le = preprocessing.LabelEncoder()\n",
        "#convert the categorical columns into numeric\n",
        "MUSIC['Artist'] = le.fit_transform(MUSIC['Artist'])\n",
        "MUSIC.head()"
      ],
      "metadata": {
        "colab": {
          "base_uri": "https://localhost:8080/",
          "height": 237
        },
        "id": "CT8Y0lYysiOx",
        "outputId": "38186138-0c42-4bd0-d5d2-ab52c17839c4"
      },
      "execution_count": null,
      "outputs": [
        {
          "output_type": "execute_result",
          "data": {
            "text/plain": [
              "            Position  Track Name  Artist  Streams  \\\n",
              "Date                                                \n",
              "2017-01-01       1.0        6696     485  19272.0   \n",
              "2017-01-01       2.0        1522    2724  19270.0   \n",
              "2017-01-01       3.0        6086    3288  15761.0   \n",
              "2017-01-01       4.0        8540    2535  14954.0   \n",
              "2017-01-01       5.0        6932    1344  14269.0   \n",
              "\n",
              "                                                          URL Region  \n",
              "Date                                                                  \n",
              "2017-01-01  https://open.spotify.com/track/3AEZUABDXNtecAO...     ec  \n",
              "2017-01-01  https://open.spotify.com/track/6mICuAdrwEjh6Y6...     ec  \n",
              "2017-01-01  https://open.spotify.com/track/3QwBODjSEzelZyV...     ec  \n",
              "2017-01-01  https://open.spotify.com/track/7DM4BPaS7uofFul...     ec  \n",
              "2017-01-01  https://open.spotify.com/track/6rQSrBHf7HlZjtc...     ec  "
            ],
            "text/html": [
              "\n",
              "  <div id=\"df-da4535de-554b-4baf-b22e-af646d6655ba\">\n",
              "    <div class=\"colab-df-container\">\n",
              "      <div>\n",
              "<style scoped>\n",
              "    .dataframe tbody tr th:only-of-type {\n",
              "        vertical-align: middle;\n",
              "    }\n",
              "\n",
              "    .dataframe tbody tr th {\n",
              "        vertical-align: top;\n",
              "    }\n",
              "\n",
              "    .dataframe thead th {\n",
              "        text-align: right;\n",
              "    }\n",
              "</style>\n",
              "<table border=\"1\" class=\"dataframe\">\n",
              "  <thead>\n",
              "    <tr style=\"text-align: right;\">\n",
              "      <th></th>\n",
              "      <th>Position</th>\n",
              "      <th>Track Name</th>\n",
              "      <th>Artist</th>\n",
              "      <th>Streams</th>\n",
              "      <th>URL</th>\n",
              "      <th>Region</th>\n",
              "    </tr>\n",
              "    <tr>\n",
              "      <th>Date</th>\n",
              "      <th></th>\n",
              "      <th></th>\n",
              "      <th></th>\n",
              "      <th></th>\n",
              "      <th></th>\n",
              "      <th></th>\n",
              "    </tr>\n",
              "  </thead>\n",
              "  <tbody>\n",
              "    <tr>\n",
              "      <th>2017-01-01</th>\n",
              "      <td>1.0</td>\n",
              "      <td>6696</td>\n",
              "      <td>485</td>\n",
              "      <td>19272.0</td>\n",
              "      <td>https://open.spotify.com/track/3AEZUABDXNtecAO...</td>\n",
              "      <td>ec</td>\n",
              "    </tr>\n",
              "    <tr>\n",
              "      <th>2017-01-01</th>\n",
              "      <td>2.0</td>\n",
              "      <td>1522</td>\n",
              "      <td>2724</td>\n",
              "      <td>19270.0</td>\n",
              "      <td>https://open.spotify.com/track/6mICuAdrwEjh6Y6...</td>\n",
              "      <td>ec</td>\n",
              "    </tr>\n",
              "    <tr>\n",
              "      <th>2017-01-01</th>\n",
              "      <td>3.0</td>\n",
              "      <td>6086</td>\n",
              "      <td>3288</td>\n",
              "      <td>15761.0</td>\n",
              "      <td>https://open.spotify.com/track/3QwBODjSEzelZyV...</td>\n",
              "      <td>ec</td>\n",
              "    </tr>\n",
              "    <tr>\n",
              "      <th>2017-01-01</th>\n",
              "      <td>4.0</td>\n",
              "      <td>8540</td>\n",
              "      <td>2535</td>\n",
              "      <td>14954.0</td>\n",
              "      <td>https://open.spotify.com/track/7DM4BPaS7uofFul...</td>\n",
              "      <td>ec</td>\n",
              "    </tr>\n",
              "    <tr>\n",
              "      <th>2017-01-01</th>\n",
              "      <td>5.0</td>\n",
              "      <td>6932</td>\n",
              "      <td>1344</td>\n",
              "      <td>14269.0</td>\n",
              "      <td>https://open.spotify.com/track/6rQSrBHf7HlZjtc...</td>\n",
              "      <td>ec</td>\n",
              "    </tr>\n",
              "  </tbody>\n",
              "</table>\n",
              "</div>\n",
              "      <button class=\"colab-df-convert\" onclick=\"convertToInteractive('df-da4535de-554b-4baf-b22e-af646d6655ba')\"\n",
              "              title=\"Convert this dataframe to an interactive table.\"\n",
              "              style=\"display:none;\">\n",
              "        \n",
              "  <svg xmlns=\"http://www.w3.org/2000/svg\" height=\"24px\"viewBox=\"0 0 24 24\"\n",
              "       width=\"24px\">\n",
              "    <path d=\"M0 0h24v24H0V0z\" fill=\"none\"/>\n",
              "    <path d=\"M18.56 5.44l.94 2.06.94-2.06 2.06-.94-2.06-.94-.94-2.06-.94 2.06-2.06.94zm-11 1L8.5 8.5l.94-2.06 2.06-.94-2.06-.94L8.5 2.5l-.94 2.06-2.06.94zm10 10l.94 2.06.94-2.06 2.06-.94-2.06-.94-.94-2.06-.94 2.06-2.06.94z\"/><path d=\"M17.41 7.96l-1.37-1.37c-.4-.4-.92-.59-1.43-.59-.52 0-1.04.2-1.43.59L10.3 9.45l-7.72 7.72c-.78.78-.78 2.05 0 2.83L4 21.41c.39.39.9.59 1.41.59.51 0 1.02-.2 1.41-.59l7.78-7.78 2.81-2.81c.8-.78.8-2.07 0-2.86zM5.41 20L4 18.59l7.72-7.72 1.47 1.35L5.41 20z\"/>\n",
              "  </svg>\n",
              "      </button>\n",
              "      \n",
              "  <style>\n",
              "    .colab-df-container {\n",
              "      display:flex;\n",
              "      flex-wrap:wrap;\n",
              "      gap: 12px;\n",
              "    }\n",
              "\n",
              "    .colab-df-convert {\n",
              "      background-color: #E8F0FE;\n",
              "      border: none;\n",
              "      border-radius: 50%;\n",
              "      cursor: pointer;\n",
              "      display: none;\n",
              "      fill: #1967D2;\n",
              "      height: 32px;\n",
              "      padding: 0 0 0 0;\n",
              "      width: 32px;\n",
              "    }\n",
              "\n",
              "    .colab-df-convert:hover {\n",
              "      background-color: #E2EBFA;\n",
              "      box-shadow: 0px 1px 2px rgba(60, 64, 67, 0.3), 0px 1px 3px 1px rgba(60, 64, 67, 0.15);\n",
              "      fill: #174EA6;\n",
              "    }\n",
              "\n",
              "    [theme=dark] .colab-df-convert {\n",
              "      background-color: #3B4455;\n",
              "      fill: #D2E3FC;\n",
              "    }\n",
              "\n",
              "    [theme=dark] .colab-df-convert:hover {\n",
              "      background-color: #434B5C;\n",
              "      box-shadow: 0px 1px 3px 1px rgba(0, 0, 0, 0.15);\n",
              "      filter: drop-shadow(0px 1px 2px rgba(0, 0, 0, 0.3));\n",
              "      fill: #FFFFFF;\n",
              "    }\n",
              "  </style>\n",
              "\n",
              "      <script>\n",
              "        const buttonEl =\n",
              "          document.querySelector('#df-da4535de-554b-4baf-b22e-af646d6655ba button.colab-df-convert');\n",
              "        buttonEl.style.display =\n",
              "          google.colab.kernel.accessAllowed ? 'block' : 'none';\n",
              "\n",
              "        async function convertToInteractive(key) {\n",
              "          const element = document.querySelector('#df-da4535de-554b-4baf-b22e-af646d6655ba');\n",
              "          const dataTable =\n",
              "            await google.colab.kernel.invokeFunction('convertToInteractive',\n",
              "                                                     [key], {});\n",
              "          if (!dataTable) return;\n",
              "\n",
              "          const docLinkHtml = 'Like what you see? Visit the ' +\n",
              "            '<a target=\"_blank\" href=https://colab.research.google.com/notebooks/data_table.ipynb>data table notebook</a>'\n",
              "            + ' to learn more about interactive tables.';\n",
              "          element.innerHTML = '';\n",
              "          dataTable['output_type'] = 'display_data';\n",
              "          await google.colab.output.renderOutput(dataTable, element);\n",
              "          const docLink = document.createElement('div');\n",
              "          docLink.innerHTML = docLinkHtml;\n",
              "          element.appendChild(docLink);\n",
              "        }\n",
              "      </script>\n",
              "    </div>\n",
              "  </div>\n",
              "  "
            ]
          },
          "metadata": {},
          "execution_count": 35
        }
      ]
    },
    {
      "cell_type": "code",
      "source": [
        "MUSIC.plot(x='Artist',y='Track Name',style='o')\n",
        "plt.title('Artist vs Track Name')\n",
        "plt.xlabel('Artist')\n",
        "plt.ylabel('Track Name')\n",
        "plt.show()"
      ],
      "metadata": {
        "colab": {
          "base_uri": "https://localhost:8080/",
          "height": 472
        },
        "id": "37idBGB7zdw6",
        "outputId": "25a7c37c-be1b-4235-ec31-b764d04c17c0"
      },
      "execution_count": null,
      "outputs": [
        {
          "output_type": "display_data",
          "data": {
            "text/plain": [
              "<Figure size 640x480 with 1 Axes>"
            ],
            "image/png": "[encoded data removed]"
          },
          "metadata": {}
        }
      ]
    },
    {
      "cell_type": "code",
      "source": [
        "MUSIC.plot(x='Artist',y='Streams',style='o')\n",
        "plt.title('Artist vs Streams')\n",
        "plt.xlabel('Artist')\n",
        "plt.ylabel('Streams')\n",
        "plt.show()"
      ],
      "metadata": {
        "colab": {
          "base_uri": "https://localhost:8080/",
          "height": 472
        },
        "id": "Z24gLzzk0P3M",
        "outputId": "4e2e96d9-4347-46a3-9c4e-56bec1ef76f4"
      },
      "execution_count": null,
      "outputs": [
        {
          "output_type": "display_data",
          "data": {
            "text/plain": [
              "<Figure size 640x480 with 1 Axes>"
            ],
            "image/png": "[encoded data removed]"
          },
          "metadata": {}
        }
      ]
    },
    {
      "cell_type": "code",
      "source": [
        "MUSIC.plot(x='Track Name',y='Streams',style='o')\n",
        "plt.title('Track Name vs Streams')\n",
        "plt.xlabel('Track Name')\n",
        "plt.ylabel('Track Name')\n",
        "plt.show()"
      ],
      "metadata": {
        "colab": {
          "base_uri": "https://localhost:8080/",
          "height": 472
        },
        "id": "db5XPMUp0Zy6",
        "outputId": "3360f21d-368f-4ee8-aa3d-dc77c66b9a38"
      },
      "execution_count": null,
      "outputs": [
        {
          "output_type": "display_data",
          "data": {
            "text/plain": [
              "<Figure size 640x480 with 1 Axes>"
            ],
            "image/png": "[encoded data removed]"
          },
          "metadata": {}
        }
      ]
    },
    {
      "cell_type": "code",
      "source": [
        "MUSIC.Streams.value_counts()"
      ],
      "metadata": {
        "colab": {
          "base_uri": "https://localhost:8080/"
        },
        "id": "R1anP5de35Er",
        "outputId": "2a54c9e5-8304-46cd-bbbb-425ee5fb613b"
      },
      "execution_count": null,
      "outputs": [
        {
          "output_type": "execute_result",
          "data": {
            "text/plain": [
              "1019.0      127\n",
              "2575.0      119\n",
              "1027.0      115\n",
              "2484.0      114\n",
              "1075.0      112\n",
              "           ... \n",
              "242417.0      1\n",
              "247608.0      1\n",
              "251143.0      1\n",
              "251321.0      1\n",
              "55471.0       1\n",
              "Name: Streams, Length: 183522, dtype: int64"
            ]
          },
          "metadata": {},
          "execution_count": 41
        }
      ]
    },
    {
      "cell_type": "code",
      "source": [
        "MUSIC.Artist.value_counts()"
      ],
      "metadata": {
        "colab": {
          "base_uri": "https://localhost:8080/"
        },
        "id": "wTzihXsp73k0",
        "outputId": "f775fc87-d9fb-45ae-94f6-26c44b6f05d9"
      },
      "execution_count": null,
      "outputs": [
        {
          "output_type": "execute_result",
          "data": {
            "text/plain": [
              "871     32935\n",
              "2930    19886\n",
              "833     13392\n",
              "496     10984\n",
              "1314    10608\n",
              "        ...  \n",
              "2488        1\n",
              "2373        1\n",
              "1365        1\n",
              "170         1\n",
              "134         1\n",
              "Name: Artist, Length: 3330, dtype: int64"
            ]
          },
          "metadata": {},
          "execution_count": 42
        }
      ]
    }
  ]
}