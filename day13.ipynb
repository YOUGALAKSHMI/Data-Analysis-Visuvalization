{
  "nbformat": 4,
  "nbformat_minor": 0,
  "metadata": {
    "colab": {
      "provenance": [],
      "authorship_tag": "ABX9TyPUPLQmjAYOBOESI/jVev/V",
      "include_colab_link": true
    },
    "kernelspec": {
      "name": "python3",
      "display_name": "Python 3"
    },
    "language_info": {
      "name": "python"
    }
  },
  "cells": [
    {
      "cell_type": "markdown",
      "metadata": {
        "id": "view-in-github",
        "colab_type": "text"
      },
      "source": [
        "<a href=\"https://colab.research.google.com/github/YOUGALAKSHMI/Data-Analysis-Visuvalization/blob/main/day13.ipynb\" target=\"_parent\"><img src=\"https://colab.research.google.com/assets/colab-badge.svg\" alt=\"Open In Colab\"/></a>"
      ]
    },
    {
      "cell_type": "code",
      "metadata": {
        "colab": {
          "base_uri": "https://localhost:8080/"
        },
        "id": "IqLdKVL8sw7D",
        "outputId": "5b239c61-7a95-4511-ec9d-db44903bd31d"
      },
      "source": [
        "name=input(\"enter your name\")\n",
        "print(\"hello\",name)\n"
      ],
      "execution_count": null,
      "outputs": [
        {
          "output_type": "stream",
          "name": "stdout",
          "text": [
            "enter your nameyouga\n",
            "hello youga\n"
          ]
        }
      ]
    },
    {
      "cell_type": "code",
      "metadata": {
        "colab": {
          "base_uri": "https://localhost:8080/"
        },
        "id": "Cjl1EWcHtzs5",
        "outputId": "a631ce60-0bf2-4424-9090-aa972dd7370d"
      },
      "source": [
        "city=input(\"enter the city\")\n",
        "print(\"welcome to\",city)\n"
      ],
      "execution_count": null,
      "outputs": [
        {
          "output_type": "stream",
          "name": "stdout",
          "text": [
            "enter the citychennai\n",
            "welcome to chennai\n"
          ]
        }
      ]
    },
    {
      "cell_type": "code",
      "metadata": {
        "colab": {
          "base_uri": "https://localhost:8080/"
        },
        "id": "VwtRD9LtuMjn",
        "outputId": "d99bd88f-1950-47f3-a8de-9a95c787d3cb"
      },
      "source": [
        "num1=int(input(\"enter num1:\"))\n",
        "num2=int(input(\"enter num2:\"))\n",
        "num3=num1*num2\n",
        "print(\"product is:\",num3)"
      ],
      "execution_count": null,
      "outputs": [
        {
          "output_type": "stream",
          "name": "stdout",
          "text": [
            "enter num1:5\n",
            "enter num2:8\n",
            "product is: 40\n"
          ]
        }
      ]
    },
    {
      "cell_type": "code",
      "metadata": {
        "colab": {
          "base_uri": "https://localhost:8080/"
        },
        "id": "kwVbYDu5vmRR",
        "outputId": "771cad2c-2df9-40f7-9734-5a0c708a6a23"
      },
      "source": [
        "num1=(input(\"enter first number:\"))\n",
        "print(num1)\n",
        "num2=int(input(\"enter second number:\"))\n",
        "print(num2)\n",
        "print(\"type of number:\",type(num1))\n",
        "print(\"type of number:\",type(num2))"
      ],
      "execution_count": null,
      "outputs": [
        {
          "output_type": "stream",
          "name": "stdout",
          "text": [
            "enter first number:55\n",
            "55\n",
            "enter second number:78\n",
            "78\n",
            "type of number: <class 'str'>\n",
            "type of number: <class 'int'>\n"
          ]
        }
      ]
    },
    {
      "cell_type": "code",
      "metadata": {
        "colab": {
          "base_uri": "https://localhost:8080/"
        },
        "id": "ZAe9NBGIyktB",
        "outputId": "b5014727-5607-4f18-f02a-33d9f216ed37"
      },
      "source": [
        "x,y=input(\"enter two values:\").split(\",\")\n",
        "print(\"no.of.boys:\",x)\n",
        "print(\"no.of.girls:\",y)\n",
        "print()"
      ],
      "execution_count": null,
      "outputs": [
        {
          "output_type": "stream",
          "name": "stdout",
          "text": [
            "enter two values:5,55\n",
            "no.of.boys: 5\n",
            "no.of.girls: 55\n",
            "\n"
          ]
        }
      ]
    }
  ]
}