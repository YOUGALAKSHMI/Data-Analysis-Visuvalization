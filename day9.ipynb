{
  "nbformat": 4,
  "nbformat_minor": 0,
  "metadata": {
    "colab": {
      "provenance": [],
      "authorship_tag": "ABX9TyNc2fVro5kdlxy7igcnBvQs",
      "include_colab_link": true
    },
    "kernelspec": {
      "name": "python3",
      "display_name": "Python 3"
    },
    "language_info": {
      "name": "python"
    }
  },
  "cells": [
    {
      "cell_type": "markdown",
      "metadata": {
        "id": "view-in-github",
        "colab_type": "text"
      },
      "source": [
        "<a href=\"https://colab.research.google.com/github/YOUGALAKSHMI/Data-Analysis-Visuvalization/blob/main/day9.ipynb\" target=\"_parent\"><img src=\"https://colab.research.google.com/assets/colab-badge.svg\" alt=\"Open In Colab\"/></a>"
      ]
    },
    {
      "cell_type": "code",
      "metadata": {
        "colab": {
          "base_uri": "https://localhost:8080/"
        },
        "id": "C117yIcrcNK6",
        "outputId": "95694780-3c02-47d6-8742-0b6287d17462"
      },
      "source": [
        "num=-5\n",
        "if num>0:\n",
        "  print(num,\"is a positive number\")\n",
        "print(\"this is always printed\")"
      ],
      "execution_count": null,
      "outputs": [
        {
          "output_type": "stream",
          "name": "stdout",
          "text": [
            "this is always printed\n"
          ]
        }
      ]
    },
    {
      "cell_type": "code",
      "metadata": {
        "colab": {
          "base_uri": "https://localhost:8080/"
        },
        "id": "GfGAzo7yeS02",
        "outputId": "27817c8d-fe9e-482e-bba6-1ae4e740537b"
      },
      "source": [
        "num=-46\n",
        "if num>=0:\n",
        "  print(num,\"the given number is positive\")\n",
        "else:\n",
        "  print(num,\"the given number is negative\")"
      ],
      "execution_count": null,
      "outputs": [
        {
          "output_type": "stream",
          "name": "stdout",
          "text": [
            "-46 the given number is negative\n"
          ]
        }
      ]
    },
    {
      "cell_type": "code",
      "metadata": {
        "colab": {
          "base_uri": "https://localhost:8080/"
        },
        "id": "eIwvxd1pgJ5x",
        "outputId": "901edf90-0c9a-4efe-a814-b0f307ea757b"
      },
      "source": [
        "num=0\n",
        "if num>0:\n",
        "  print(num,\"the number is positive number\")\n",
        "elif num==0:\n",
        "  print(num,\"the given number is zero\")\n",
        "else:\n",
        "  print(num,\"is the given number is negative number\")"
      ],
      "execution_count": null,
      "outputs": [
        {
          "output_type": "stream",
          "name": "stdout",
          "text": [
            "0 the given number is zero\n"
          ]
        }
      ]
    },
    {
      "cell_type": "code",
      "metadata": {
        "colab": {
          "base_uri": "https://localhost:8080/"
        },
        "id": "lVw8M4okk--P",
        "outputId": "356c21c3-8826-402d-cc3d-f5a2979ba371"
      },
      "source": [
        "name=input(\"enter empolyee name:\")\n",
        "sal=int(input(\"enter salary of empolyee\"))\n",
        "exp=int(input(\"enter year of experience\"))\n",
        "if exp>5:\n",
        "  x=sal*(exp/100)\n",
        "  print(sal+x,\"is your bonous\")\n",
        "else:\n",
        "  print(sal,\"is your bonous\")"
      ],
      "execution_count": null,
      "outputs": [
        {
          "output_type": "stream",
          "name": "stdout",
          "text": [
            "enter empolyee name:poija\n",
            "enter salary of empolyee1000\n",
            "enter year of experience5\n",
            "1000 is your bonous\n"
          ]
        }
      ]
    },
    {
      "cell_type": "code",
      "metadata": {
        "colab": {
          "base_uri": "https://localhost:8080/"
        },
        "id": "Jm2uPW0Epc3A",
        "outputId": "52b67238-77be-45ed-ee67-e1552232435a"
      },
      "source": [
        "num=int(input(\"enter the number:\"))\n",
        "if num%2==0:\n",
        "  print(\"the given number is even\")\n",
        "else:\n",
        "  print(\"the given number is odd\")"
      ],
      "execution_count": null,
      "outputs": [
        {
          "output_type": "stream",
          "name": "stdout",
          "text": [
            "enter the number:22\n",
            "the given number is even\n"
          ]
        }
      ]
    },
    {
      "cell_type": "code",
      "metadata": {
        "colab": {
          "base_uri": "https://localhost:8080/"
        },
        "id": "lCTyNtpQqcWQ",
        "outputId": "33b01b61-2c98-4e37-f7a3-8915a5a91d33"
      },
      "source": [
        "num1=int(input(\"enter a number:\"))\n",
        "num2=int(input(\"enter a number:\"))\n",
        "num3=int(input(\"enter a number:\"))\n",
        "total=num1+num2+num3\n",
        "percentage=total*(100/300)\n",
        "if percentage<=85:\n",
        "  print(\"passed in first class\")\n",
        "else:\n",
        "  print(\"passed in second class\")\n"
      ],
      "execution_count": null,
      "outputs": [
        {
          "output_type": "stream",
          "name": "stdout",
          "text": [
            "enter a number:12\n",
            "enter a number:33\n",
            "enter a number:45\n",
            "passed in first class\n"
          ]
        }
      ]
    }
  ]
}