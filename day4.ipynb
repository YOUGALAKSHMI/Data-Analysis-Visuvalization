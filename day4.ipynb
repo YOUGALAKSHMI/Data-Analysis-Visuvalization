{
  "nbformat": 4,
  "nbformat_minor": 0,
  "metadata": {
    "colab": {
      "provenance": [],
      "include_colab_link": true
    },
    "kernelspec": {
      "name": "python3",
      "display_name": "Python 3"
    },
    "language_info": {
      "name": "python"
    }
  },
  "cells": [
    {
      "cell_type": "markdown",
      "metadata": {
        "id": "view-in-github",
        "colab_type": "text"
      },
      "source": [
        "<a href=\"https://colab.research.google.com/github/YOUGALAKSHMI/Data-Analysis-Visuvalization/blob/main/day4.ipynb\" target=\"_parent\"><img src=\"https://colab.research.google.com/assets/colab-badge.svg\" alt=\"Open In Colab\"/></a>"
      ]
    },
    {
      "cell_type": "code",
      "execution_count": null,
      "metadata": {
        "colab": {
          "base_uri": "https://localhost:8080/"
        },
        "id": "tokz46K0q-mG",
        "outputId": "f0cdfa12-f973-4686-c8a3-0e11b15fd179"
      },
      "outputs": [
        {
          "output_type": "stream",
          "name": "stdout",
          "text": [
            "(2, 4)\n"
          ]
        }
      ],
      "source": [
        "import numpy as np\n",
        "x=np.array([[1,2,3,4],[7,8,9,6]])\n",
        "print(x.shape)"
      ]
    },
    {
      "cell_type": "code",
      "source": [
        "#compariosn using boolean\n",
        "y=np.array([[8,2,5,6],[5,4,1,6]])\n",
        "result1 = x < y\n",
        "print(\"x < y:\",result1)\n",
        "\n",
        "result2 = x > y\n",
        "print(\"x > y:\",result2)\n",
        "\n",
        "result3 = x == y\n",
        "print(\"x == y:\",result3)"
      ],
      "metadata": {
        "colab": {
          "base_uri": "https://localhost:8080/"
        },
        "id": "KNpDzuIa7MSL",
        "outputId": "2f4c586a-c332-4d2d-ca3a-490922ca9fd6"
      },
      "execution_count": null,
      "outputs": [
        {
          "output_type": "stream",
          "name": "stdout",
          "text": [
            "x < y: [[ True False  True  True]\n",
            " [False False False False]]\n",
            "x > y: [[False False False False]\n",
            " [ True  True  True False]]\n",
            "x == y: [[False  True False False]\n",
            " [False False False  True]]\n"
          ]
        }
      ]
    },
    {
      "cell_type": "code",
      "source": [
        "a=x[0, 1]\n",
        "print('2nd element on 1st row: ', a)"
      ],
      "metadata": {
        "colab": {
          "base_uri": "https://localhost:8080/"
        },
        "id": "4PR9I1rcr4XK",
        "outputId": "f59c25d3-d1a6-4def-fc8b-75b8603da1e1"
      },
      "execution_count": null,
      "outputs": [
        {
          "output_type": "stream",
          "name": "stdout",
          "text": [
            "2nd element on 1st row:  2\n"
          ]
        }
      ]
    },
    {
      "cell_type": "code",
      "source": [
        "b=x[1, 1]\n",
        "print('2nd element on 2nd row: ', b)"
      ],
      "metadata": {
        "colab": {
          "base_uri": "https://localhost:8080/"
        },
        "id": "r-YsJJ6Ux1Tj",
        "outputId": "c31df4d9-b87c-4c19-9a55-055bf51062de"
      },
      "execution_count": null,
      "outputs": [
        {
          "output_type": "stream",
          "name": "stdout",
          "text": [
            "2nd element on 2nd row:  8\n"
          ]
        }
      ]
    },
    {
      "cell_type": "code",
      "source": [
        "#1-d array\n",
        "k=np.array([[1,2,3,4]])\n",
        "print(k.shape)\n",
        "#2-d array\n",
        "l=np.array([[1,2,3,4],[7,8,9,6]])\n",
        "print(l.shape)\n",
        "#3-d array\n",
        "m=np.array([[[1, 2, 3], [4, 5, 6]], [[1, 2, 3], [4, 5, 6]]])\n",
        "print(m.shape)"
      ],
      "metadata": {
        "colab": {
          "base_uri": "https://localhost:8080/"
        },
        "id": "faBCybi2zCvr",
        "outputId": "beb04cb8-657f-4f03-ac4b-37d74325ac04"
      },
      "execution_count": null,
      "outputs": [
        {
          "output_type": "stream",
          "name": "stdout",
          "text": [
            "(1, 4)\n",
            "(2, 4)\n",
            "(2, 2, 3)\n"
          ]
        }
      ]
    },
    {
      "cell_type": "code",
      "source": [
        "arr = np.array([1, 2, 3, 4])\n",
        "\n",
        "print(arr[1])"
      ],
      "metadata": {
        "colab": {
          "base_uri": "https://localhost:8080/"
        },
        "id": "4o6R5Kjg0oZ7",
        "outputId": "27c1271f-d665-4dad-8c94-1aa8b7b0288b"
      },
      "execution_count": null,
      "outputs": [
        {
          "output_type": "stream",
          "name": "stdout",
          "text": [
            "2\n"
          ]
        }
      ]
    },
    {
      "cell_type": "code",
      "source": [
        "arr = np.array([1, 2, 3, 4, 5, 6, 7])\n",
        "y=slice(3,6,2)\n",
        "print(arr[y])"
      ],
      "metadata": {
        "colab": {
          "base_uri": "https://localhost:8080/"
        },
        "id": "Pd_TdSw2H5E6",
        "outputId": "ddd39fb1-89f8-444a-fc80-c7bae1121074"
      },
      "execution_count": null,
      "outputs": [
        {
          "output_type": "stream",
          "name": "stdout",
          "text": [
            "[4 6]\n"
          ]
        }
      ]
    },
    {
      "cell_type": "code",
      "source": [
        "x = np.arange(20)\n",
        "print(x)\n",
        "y=slice(3,6,2)\n",
        "print(x[y])"
      ],
      "metadata": {
        "colab": {
          "base_uri": "https://localhost:8080/"
        },
        "id": "H1jnzuoxKc1A",
        "outputId": "1f169b98-675f-48b9-ef9c-a3f9cd2101bf"
      },
      "execution_count": null,
      "outputs": [
        {
          "output_type": "stream",
          "name": "stdout",
          "text": [
            "[ 0  1  2  3  4  5  6  7  8  9 10 11 12 13 14 15 16 17 18 19]\n",
            "[3 5]\n"
          ]
        }
      ]
    },
    {
      "cell_type": "code",
      "source": [
        "x = np.arange(20)\n",
        "y=slice(3,6,2)\n",
        "print(x[3:])"
      ],
      "metadata": {
        "colab": {
          "base_uri": "https://localhost:8080/"
        },
        "id": "T1fRqv1_KhDH",
        "outputId": "93dba416-0727-4ecb-b5d6-de6a34310137"
      },
      "execution_count": null,
      "outputs": [
        {
          "output_type": "stream",
          "name": "stdout",
          "text": [
            "[ 3  4  5  6  7  8  9 10 11 12 13 14 15 16 17 18 19]\n"
          ]
        }
      ]
    },
    {
      "cell_type": "code",
      "source": [
        "arr = np.array([1, 2, 3, 4, 5, 6, 7])\n",
        "print('Sine of angles:')\n",
        "print(np.sin(x*np.pi/180))\n",
        "print('\\n')\n",
        "print('cosine values')\n",
        "print(np.cos(x*np.pi/180))\n",
        "print('\\n')\n",
        "print('Tangent values')\n",
        "print(np.tan(x*np.pi/180))"
      ],
      "metadata": {
        "colab": {
          "base_uri": "https://localhost:8080/"
        },
        "id": "NchbgOUxb4Dx",
        "outputId": "d8a6a34f-8b3c-4bb9-daf2-fb2165279fe9"
      },
      "execution_count": null,
      "outputs": [
        {
          "output_type": "stream",
          "name": "stdout",
          "text": [
            "Sine of angles:\n",
            "[0.         0.01745241 0.0348995  0.05233596 0.06975647 0.08715574\n",
            " 0.10452846 0.12186934 0.1391731  0.15643447 0.17364818 0.190809\n",
            " 0.20791169 0.22495105 0.2419219  0.25881905 0.27563736 0.2923717\n",
            " 0.30901699 0.32556815]\n",
            "\n",
            "\n",
            "cosine values\n",
            "[1.         0.9998477  0.99939083 0.99862953 0.99756405 0.9961947\n",
            " 0.9945219  0.99254615 0.99026807 0.98768834 0.98480775 0.98162718\n",
            " 0.9781476  0.97437006 0.97029573 0.96592583 0.9612617  0.95630476\n",
            " 0.95105652 0.94551858]\n",
            "\n",
            "\n",
            "Tangent values\n",
            "[0.         0.01745506 0.03492077 0.05240778 0.06992681 0.08748866\n",
            " 0.10510424 0.12278456 0.14054083 0.15838444 0.17632698 0.19438031\n",
            " 0.21255656 0.23086819 0.249328   0.26794919 0.28674539 0.30573068\n",
            " 0.3249197  0.34432761]\n"
          ]
        }
      ]
    },
    {
      "cell_type": "code",
      "source": [
        "#arithmetic operations\n",
        "import numpy as np\n",
        "x=np.arange(9,dtype=np.float).reshape(3,3)\n",
        "print('First array:')\n",
        "print(x)\n",
        "print('\\n')\n",
        "print('Second array:')\n",
        "y=np.array([20,20,20])\n",
        "print(y)\n",
        "print('\\n')\n",
        "print(np.add(x,y))\n",
        "print('\\n')\n",
        "print(np.subtract(x,y))\n",
        "print('\\n')\n",
        "print(np.multiply(x,y))\n",
        "print('\\n')\n",
        "print(np.divide(x,y))\n"
      ],
      "metadata": {
        "colab": {
          "base_uri": "https://localhost:8080/"
        },
        "id": "L7YxZcNRb8o_",
        "outputId": "81b08877-2f4c-4af4-dac3-3f78a9c813c7"
      },
      "execution_count": null,
      "outputs": [
        {
          "output_type": "stream",
          "name": "stdout",
          "text": [
            "First array:\n",
            "[[0. 1. 2.]\n",
            " [3. 4. 5.]\n",
            " [6. 7. 8.]]\n",
            "\n",
            "\n",
            "Second array:\n",
            "[20 20 20]\n",
            "\n",
            "\n",
            "[[20. 21. 22.]\n",
            " [23. 24. 25.]\n",
            " [26. 27. 28.]]\n",
            "\n",
            "\n",
            "[[-20. -19. -18.]\n",
            " [-17. -16. -15.]\n",
            " [-14. -13. -12.]]\n",
            "\n",
            "\n",
            "[[  0.  20.  40.]\n",
            " [ 60.  80. 100.]\n",
            " [120. 140. 160.]]\n",
            "\n",
            "\n",
            "[[0.   0.05 0.1 ]\n",
            " [0.15 0.2  0.25]\n",
            " [0.3  0.35 0.4 ]]\n"
          ]
        },
        {
          "output_type": "stream",
          "name": "stderr",
          "text": [
            "<ipython-input-20-f621eafe4e3a>:3: DeprecationWarning: `np.float` is a deprecated alias for the builtin `float`. To silence this warning, use `float` by itself. Doing this will not modify any behavior and is safe. If you specifically wanted the numpy scalar type, use `np.float64` here.\n",
            "Deprecated in NumPy 1.20; for more details and guidance: https://numpy.org/devdocs/release/1.20.0-notes.html#deprecations\n",
            "  x=np.arange(9,dtype=np.float).reshape(3,3)\n"
          ]
        }
      ]
    },
    {
      "cell_type": "code",
      "source": [
        "\n",
        "list = [2, 4, 4,7,8,9,0]\n",
        "print(np.average(list))\n",
        "print(np.var(list))\n",
        "print(np.std(list))"
      ],
      "metadata": {
        "colab": {
          "base_uri": "https://localhost:8080/"
        },
        "id": "CwsJNqEJx4tp",
        "outputId": "fec0f48a-8893-45c6-bac3-a48fa9993cf5"
      },
      "execution_count": null,
      "outputs": [
        {
          "output_type": "stream",
          "name": "stdout",
          "text": [
            "4.857142857142857\n",
            "9.26530612244898\n",
            "3.0438965360946453\n"
          ]
        }
      ]
    },
    {
      "cell_type": "code",
      "source": [
        "import numpy as np\n",
        "from matplotlib import pyplot as plt\n",
        "a=np.arange(1,31)\n",
        "b=3*a-4\n",
        "plt.title(\"Matplotlib\")\n",
        "plt.xlabel(\"x axis\")\n",
        "plt.ylabel(\"y axis\")\n",
        "plt.plot(a,b)\n",
        "plt.show()"
      ],
      "metadata": {
        "colab": {
          "base_uri": "https://localhost:8080/",
          "height": 472
        },
        "id": "iYSPd9Zg2Gaz",
        "outputId": "906b8748-f9cc-4e50-bc73-f329548bdaf4"
      },
      "execution_count": null,
      "outputs": [
        {
          "output_type": "display_data",
          "data": {
            "text/plain": [
              "<Figure size 640x480 with 1 Axes>"
            ],
            "image/png": "[encoded data removed]"
          },
          "metadata": {}
        }
      ]
    }
  ]
}